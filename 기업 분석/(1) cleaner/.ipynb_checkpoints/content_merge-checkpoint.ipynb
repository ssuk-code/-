{
 "cells": [
  {
   "cell_type": "code",
   "execution_count": 1,
   "metadata": {},
   "outputs": [],
   "source": [
    "import numpy as np\n",
    "import pandas as pd\n",
    "import xarray as xr\n",
    "import os\n",
    "import csv\n",
    "import re"
   ]
  },
  {
   "cell_type": "code",
   "execution_count": 2,
   "metadata": {},
   "outputs": [],
   "source": [
    "def csv2list(filename):\n",
    "    lists = []\n",
    "    file = open(\"../krafton/yt_krafton_content.csv\", \"r\", encoding = 'utf-8')\n",
    "    while True:\n",
    "        line = file.readline().rstrip(\"\\n\")\n",
    "        if line:\n",
    "            line = line.split(\",\")\n",
    "            lists.append(line)\n",
    "        else:\n",
    "            break\n",
    "    return lists\n",
    "\n",
    "content001 = csv2list(\"../krafton/yt_krafton_content.csv\")"
   ]
  },
  {
   "cell_type": "code",
   "execution_count": 3,
   "metadata": {},
   "outputs": [],
   "source": [
    "def csv2list(filename):\n",
    "    lists = []\n",
    "    file = open(\"../krafton/nv_krafton_content.csv\", \"r\", encoding = 'utf-8')\n",
    "    while True:\n",
    "        line = file.readline().rstrip(\"\\n\")\n",
    "        if line:\n",
    "            line = line.split(\",\")\n",
    "            lists.append(line)\n",
    "        else:\n",
    "            break\n",
    "    return lists\n",
    "\n",
    "content002 = csv2list(\"../krafton/nv_krafton_content.csv\")"
   ]
  },
  {
   "cell_type": "code",
   "execution_count": 4,
   "metadata": {},
   "outputs": [],
   "source": [
    "def csv2list(filename):\n",
    "    lists = []\n",
    "    file = open(\"../krafton/nv_krafton_total.csv\", \"r\", encoding = 'utf-8')\n",
    "    while True:\n",
    "        line = file.readline().rstrip(\"\\n\")\n",
    "        if line:\n",
    "            line = line.split(\",\")\n",
    "            lists.append(line)\n",
    "        else:\n",
    "            break\n",
    "    return lists\n",
    "\n",
    "content003 = csv2list(\"../krafton/nv_krafton_total.csv\")"
   ]
  },
  {
   "cell_type": "code",
   "execution_count": 5,
   "metadata": {},
   "outputs": [],
   "source": [
    "#def csv2list(filename):\n",
    "#    lists = []\n",
    "#    file = open(\"../mathpresso/nv_qanda_total.csv\", \"r\", encoding = 'utf-8')\n",
    "#    while True:\n",
    "#        line = file.readline().rstrip(\"\\n\")\n",
    "#        if line:\n",
    "#            line = line.split(\",\")\n",
    "#            lists.append(line)\n",
    "#        else:\n",
    "#            break\n",
    "#    return lists\n",
    "\n",
    "#content004 = csv2list(\"../mathpresso/nv_mathpresso_total.csv\")"
   ]
  },
  {
   "cell_type": "code",
   "execution_count": 6,
   "metadata": {},
   "outputs": [],
   "source": [
    "content000 = []\n",
    "content000.extend(content001)\n",
    "content000.extend(content002)\n",
    "content000.extend(content003)\n",
    "#content000.extend(content004)"
   ]
  },
  {
   "cell_type": "code",
   "execution_count": 7,
   "metadata": {},
   "outputs": [
    {
     "data": {
      "text/html": [
       "<div>\n",
       "<style scoped>\n",
       "    .dataframe tbody tr th:only-of-type {\n",
       "        vertical-align: middle;\n",
       "    }\n",
       "\n",
       "    .dataframe tbody tr th {\n",
       "        vertical-align: top;\n",
       "    }\n",
       "\n",
       "    .dataframe thead th {\n",
       "        text-align: right;\n",
       "    }\n",
       "</style>\n",
       "<table border=\"1\" class=\"dataframe\">\n",
       "  <thead>\n",
       "    <tr style=\"text-align: right;\">\n",
       "      <th></th>\n",
       "      <th>0</th>\n",
       "    </tr>\n",
       "  </thead>\n",
       "  <tbody>\n",
       "    <tr>\n",
       "      <th>0</th>\n",
       "      <td>최신입의 첫 지스타 출장 번째 이야기 🏃♀️그.런.데 하라는 일은 안 하고 ❤️연애...</td>\n",
       "    </tr>\n",
       "    <tr>\n",
       "      <th>1</th>\n",
       "      <td>두 마리 토끼를 다 잡고 싶습니다.과연 그 사랑?의 결과는 어떻게 되었을지... ?...</td>\n",
       "    </tr>\n",
       "    <tr>\n",
       "      <th>2</th>\n",
       "      <td>안녕하세요 잘 지내셨나요?오랜만에 인사 드립니다. 최신입 입니다 🙇♀️태어나서 처...</td>\n",
       "    </tr>\n",
       "    <tr>\n",
       "      <th>3</th>\n",
       "      <td>가월 일부터 일까지</td>\n",
       "    </tr>\n",
       "    <tr>\n",
       "      <th>4</th>\n",
       "      <td>이틀간 진행됐습니다프로젝트 소개부터 자신만의 노하우를 공유하고새로운 인연을 만날 수...</td>\n",
       "    </tr>\n",
       "    <tr>\n",
       "      <th>...</th>\n",
       "      <td>...</td>\n",
       "    </tr>\n",
       "    <tr>\n",
       "      <th>1826</th>\n",
       "      <td>..부스 포스팅 바로가기 ....</td>\n",
       "    </tr>\n",
       "    <tr>\n",
       "      <th>1827</th>\n",
       "      <td>후기 포스팅 바로가기</td>\n",
       "    </tr>\n",
       "    <tr>\n",
       "      <th>1828</th>\n",
       "      <td>....</td>\n",
       "    </tr>\n",
       "    <tr>\n",
       "      <th>1829</th>\n",
       "      <td>....</td>\n",
       "    </tr>\n",
       "    <tr>\n",
       "      <th>1830</th>\n",
       "      <td>.?지스타후기지스타후기.?지스타지스타.?지스타리뷰지스타리뷰.?지스타넷마블지스타넷마...</td>\n",
       "    </tr>\n",
       "  </tbody>\n",
       "</table>\n",
       "<p>1831 rows × 1 columns</p>\n",
       "</div>"
      ],
      "text/plain": [
       "                                                      0\n",
       "0     최신입의 첫 지스타 출장 번째 이야기 🏃♀️그.런.데 하라는 일은 안 하고 ❤️연애...\n",
       "1     두 마리 토끼를 다 잡고 싶습니다.과연 그 사랑?의 결과는 어떻게 되었을지... ?...\n",
       "2      안녕하세요 잘 지내셨나요?오랜만에 인사 드립니다. 최신입 입니다 🙇♀️태어나서 처...\n",
       "3                                            가월 일부터 일까지\n",
       "4     이틀간 진행됐습니다프로젝트 소개부터 자신만의 노하우를 공유하고새로운 인연을 만날 수...\n",
       "...                                                 ...\n",
       "1826                                ..부스 포스팅 바로가기 .... \n",
       "1827                                        후기 포스팅 바로가기\n",
       "1828                                              .... \n",
       "1829                                              .... \n",
       "1830   .?지스타후기지스타후기.?지스타지스타.?지스타리뷰지스타리뷰.?지스타넷마블지스타넷마...\n",
       "\n",
       "[1831 rows x 1 columns]"
      ]
     },
     "execution_count": 7,
     "metadata": {},
     "output_type": "execute_result"
    }
   ],
   "source": [
    "content00 = sum(content000, [])\n",
    "token001=re.sub(r'[-=+#/\\:^$@*\\\"※~\\&▶%ㆍ!』}{\\;\\‘|\\_(\\)\\[\\]\\<\\>`\\'…》]+',\"\",str(content00))\n",
    "token002=re.sub(r'[0-9A-Za-z]+',\"\",token001)\n",
    "token003=re.sub(r'\\\\',\"\",token002)\n",
    "token004=re.sub('  ',\"\",token003)\n",
    "token005 = token004.split(',')\n",
    "token006 = pd.DataFrame(token005)\n",
    "token007 = token006[token006[0].map(len)>2]\n",
    "token008 = token007.reset_index(drop=True)\n",
    "token008"
   ]
  },
  {
   "cell_type": "code",
   "execution_count": 8,
   "metadata": {},
   "outputs": [],
   "source": [
    "#token008 = token008[0:1015]"
   ]
  },
  {
   "cell_type": "code",
   "execution_count": 9,
   "metadata": {},
   "outputs": [],
   "source": [
    "token008.to_csv(\"./krafton_content.csv\", mode=\"a\", index=False, header=False)"
   ]
  },
  {
   "cell_type": "code",
   "execution_count": 10,
   "metadata": {},
   "outputs": [
    {
     "data": {
      "text/plain": [
       "['최신입의 첫 지스타 출장 번째 이야기 🏃♀️그.런.데 하라는 일은 안 하고 ❤️연애❤️를?일과 사랑',\n",
       " '두 마리 토끼를 다 잡고 싶습니다.과연 그 사랑?의 결과는 어떻게 되었을지... ???지스타?크래프톤?게임회사',\n",
       " ' 안녕하세요 잘 지내셨나요?오랜만에 인사 드립니다. 최신입 입니다 🙇♀️태어나서 처음으로 지스타를 방문했는데요.으마으마한 스케일에 깜짝 놀랐답니다 😲하지만 가장 놀라웠던 건 아무래도 ✨크래프톤 야외부스✨연합사들의 다양한 컬러와 재미있는 부스 구성까지 크래프톤 부스로 다들 놀러오세요🏃♀️🏃♂️ ???지스타?크래프톤?게임회사',\n",
       " ' 가월 일부터 일까지',\n",
       " '이틀간 진행됐습니다프로젝트 소개부터 자신만의 노하우를 공유하고새로운 인연을 만날 수 있었던 훈훈한 그 현장 😙여러분들에게도 보여드리기 위해 가져왔습니다 칭찬해주세요 ??게임개발자?개발자???컨퍼런스']"
      ]
     },
     "execution_count": 10,
     "metadata": {},
     "output_type": "execute_result"
    }
   ],
   "source": [
    "content_list=[]\n",
    "\n",
    "with open('./krafton_content.csv', 'r', encoding='utf-8') as f:\n",
    "    csv_reader = csv.reader(f, delimiter = '\\n')\n",
    "    for row in csv_reader:\n",
    "        content_list.append(row)\n",
    "\n",
    "content_list = sum(content_list, [])\n",
    "content_list[:5]"
   ]
  },
  {
   "cell_type": "code",
   "execution_count": null,
   "metadata": {},
   "outputs": [],
   "source": []
  }
 ],
 "metadata": {
  "kernelspec": {
   "display_name": "Python 3",
   "language": "python",
   "name": "python3"
  },
  "language_info": {
   "codemirror_mode": {
    "name": "ipython",
    "version": 3
   },
   "file_extension": ".py",
   "mimetype": "text/x-python",
   "name": "python",
   "nbconvert_exporter": "python",
   "pygments_lexer": "ipython3",
   "version": "3.7.4"
  }
 },
 "nbformat": 4,
 "nbformat_minor": 4
}
