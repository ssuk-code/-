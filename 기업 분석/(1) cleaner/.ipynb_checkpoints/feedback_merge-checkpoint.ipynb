{
 "cells": [
  {
   "cell_type": "code",
   "execution_count": 1,
   "metadata": {},
   "outputs": [],
   "source": [
    "import numpy as np\n",
    "import pandas as pd\n",
    "import xarray as xr\n",
    "import os\n",
    "import csv\n",
    "import re"
   ]
  },
  {
   "cell_type": "code",
   "execution_count": 2,
   "metadata": {},
   "outputs": [],
   "source": [
    "def csv2list(filename):\n",
    "    lists = []\n",
    "    file = open(\"../주식회사 PUBG/googleplay_pubg_feedback.csv\", \"r\", encoding = 'utf-8')\n",
    "    while True:\n",
    "        line = file.readline().rstrip(\"\\n\")\n",
    "        if line:\n",
    "            line = line.split(\",\")\n",
    "            lists.append(line)\n",
    "        else:\n",
    "            break\n",
    "    return lists\n",
    "\n",
    "feedback001 = csv2list(\"../주식회사 PUBG/googleplay_pubg_feedback.csv\")"
   ]
  },
  {
   "cell_type": "code",
   "execution_count": 3,
   "metadata": {},
   "outputs": [],
   "source": [
    "def csv2list(filename):\n",
    "    lists = []\n",
    "    file = open(\"../주식회사 PUBG/nv_pubg_feedback.csv\", \"r\", encoding = 'utf-8')\n",
    "    while True:\n",
    "        line = file.readline().rstrip(\"\\n\")\n",
    "        if line:\n",
    "            line = line.split(\",\")\n",
    "            lists.append(line)\n",
    "        else:\n",
    "            break\n",
    "    return lists\n",
    "\n",
    "feedback002 = csv2list(\"../주식회사 PUBG/nv_pubg_feedback.csv\")"
   ]
  },
  {
   "cell_type": "code",
   "execution_count": 4,
   "metadata": {},
   "outputs": [],
   "source": [
    "def csv2list(filename):\n",
    "    lists = []\n",
    "    file = open(\"../주식회사 PUBG/yt_pubg_feedback.csv\", \"r\", encoding = 'utf-8')\n",
    "    while True:\n",
    "        line = file.readline().rstrip(\"\\n\")\n",
    "        if line:\n",
    "            line = line.split(\",\")\n",
    "            lists.append(line)\n",
    "        else:\n",
    "            break\n",
    "    return lists\n",
    "\n",
    "feedback003 = csv2list(\"../주식회사 PUBG/yt_pubg_feedback.csv\")"
   ]
  },
  {
   "cell_type": "code",
   "execution_count": 5,
   "metadata": {},
   "outputs": [],
   "source": [
    "feedback000 = []\n",
    "feedback000.extend(feedback001)\n",
    "feedback000.extend(feedback002)\n",
    "feedback000.extend(feedback003)"
   ]
  },
  {
   "cell_type": "code",
   "execution_count": 6,
   "metadata": {},
   "outputs": [
    {
     "data": {
      "text/html": [
       "<div>\n",
       "<style scoped>\n",
       "    .dataframe tbody tr th:only-of-type {\n",
       "        vertical-align: middle;\n",
       "    }\n",
       "\n",
       "    .dataframe tbody tr th {\n",
       "        vertical-align: top;\n",
       "    }\n",
       "\n",
       "    .dataframe thead th {\n",
       "        text-align: right;\n",
       "    }\n",
       "</style>\n",
       "<table border=\"1\" class=\"dataframe\">\n",
       "  <thead>\n",
       "    <tr style=\"text-align: right;\">\n",
       "      <th></th>\n",
       "      <th>0</th>\n",
       "    </tr>\n",
       "  </thead>\n",
       "  <tbody>\n",
       "    <tr>\n",
       "      <th>0</th>\n",
       "      <td>다 좋은데 진짜 터치 오류가 요새 넘 심합니다. 어제도 터치오류 때문에 치킨도 못먹...</td>\n",
       "    </tr>\n",
       "    <tr>\n",
       "      <th>1</th>\n",
       "      <td>PUBG CORPORATION2019년 11월 26일</td>\n",
       "    </tr>\n",
       "    <tr>\n",
       "      <th>2</th>\n",
       "      <td>PUBG M 안녕하세요. 배틀그라운드 모바일입니다. 고객님께서 게임 이용 중 조작...</td>\n",
       "    </tr>\n",
       "    <tr>\n",
       "      <th>3</th>\n",
       "      <td>남겨주신 리뷰 상으로는 자세한 상황을 확인하기 어렵습니다. 번거로우시더라도 자세...</td>\n",
       "    </tr>\n",
       "    <tr>\n",
       "      <th>4</th>\n",
       "      <td>진짜 재미있어요총 주우는 것도 빠르고 무엇보다 미사일 총이 좋아요 적외선을 사용하...</td>\n",
       "    </tr>\n",
       "    <tr>\n",
       "      <th>...</th>\n",
       "      <td>...</td>\n",
       "    </tr>\n",
       "    <tr>\n",
       "      <th>92144</th>\n",
       "      <td>W       ? W   0  ?</td>\n",
       "    </tr>\n",
       "    <tr>\n",
       "      <th>92145</th>\n",
       "      <td>M     INTERESTELLAR</td>\n",
       "    </tr>\n",
       "    <tr>\n",
       "      <th>92146</th>\n",
       "      <td>S</td>\n",
       "    </tr>\n",
       "    <tr>\n",
       "      <th>92147</th>\n",
       "      <td>F S</td>\n",
       "    </tr>\n",
       "    <tr>\n",
       "      <th>92148</th>\n",
       "      <td>F F</td>\n",
       "    </tr>\n",
       "  </tbody>\n",
       "</table>\n",
       "<p>92149 rows × 1 columns</p>\n",
       "</div>"
      ],
      "text/plain": [
       "                                                       0\n",
       "0      다 좋은데 진짜 터치 오류가 요새 넘 심합니다. 어제도 터치오류 때문에 치킨도 못먹...\n",
       "1                          PUBG CORPORATION2019년 11월 26일\n",
       "2       PUBG M 안녕하세요. 배틀그라운드 모바일입니다. 고객님께서 게임 이용 중 조작...\n",
       "3        남겨주신 리뷰 상으로는 자세한 상황을 확인하기 어렵습니다. 번거로우시더라도 자세...\n",
       "4       진짜 재미있어요총 주우는 것도 빠르고 무엇보다 미사일 총이 좋아요 적외선을 사용하...\n",
       "...                                                  ...\n",
       "92144                                 W       ? W   0  ?\n",
       "92145                                M     INTERESTELLAR\n",
       "92146                                                 S \n",
       "92147                                                F S\n",
       "92148                                              F F  \n",
       "\n",
       "[92149 rows x 1 columns]"
      ]
     },
     "execution_count": 6,
     "metadata": {},
     "output_type": "execute_result"
    }
   ],
   "source": [
    "feedback00 = sum(feedback000, [])\n",
    "token001=re.sub(r'[-=+#/\\:^$@*\\\"※~&%ㆍ!』\\\\‘|\\_(\\)\\[\\]\\<\\>`\\'…》]+',\"\",str(feedback00))\n",
    "token002=re.sub(r'[a-z]+',\"\",token001)\n",
    "token003 = token002.split(',')\n",
    "token004 = pd.DataFrame(token003)\n",
    "token005 = token004[token004[0].map(len)>2]\n",
    "token006 = token005.reset_index(drop=True)\n",
    "token006"
   ]
  },
  {
   "cell_type": "code",
   "execution_count": null,
   "metadata": {},
   "outputs": [],
   "source": [
    "token006.tail(200)"
   ]
  },
  {
   "cell_type": "code",
   "execution_count": 7,
   "metadata": {},
   "outputs": [],
   "source": [
    "token006.to_csv(\"./pubg_feedback.csv\", mode=\"a\", index=False, header=False)"
   ]
  },
  {
   "cell_type": "code",
   "execution_count": null,
   "metadata": {},
   "outputs": [],
   "source": [
    "feedback_list=[]\n",
    "\n",
    "with open('./pubg_feedback.csv', 'r', encoding='utf-8') as f:\n",
    "    csv_reader = csv.reader(f, delimiter = '\\n')\n",
    "    for row in csv_reader:\n",
    "        feedback_list.append(row)\n",
    "\n",
    "feedback_list = sum(feedback_list, [])\n",
    "feedback_list[:5]"
   ]
  },
  {
   "cell_type": "code",
   "execution_count": null,
   "metadata": {},
   "outputs": [],
   "source": []
  }
 ],
 "metadata": {
  "kernelspec": {
   "display_name": "Python 3",
   "language": "python",
   "name": "python3"
  },
  "language_info": {
   "codemirror_mode": {
    "name": "ipython",
    "version": 3
   },
   "file_extension": ".py",
   "mimetype": "text/x-python",
   "name": "python",
   "nbconvert_exporter": "python",
   "pygments_lexer": "ipython3",
   "version": "3.7.4"
  }
 },
 "nbformat": 4,
 "nbformat_minor": 4
}
