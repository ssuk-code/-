{
 "cells": [
  {
   "cell_type": "code",
   "execution_count": 1,
   "metadata": {},
   "outputs": [],
   "source": [
    "import numpy as np\n",
    "import pandas as pd\n",
    "import xarray as xr\n",
    "import os\n",
    "import csv\n",
    "import re"
   ]
  },
  {
   "cell_type": "code",
   "execution_count": 2,
   "metadata": {},
   "outputs": [],
   "source": [
    "def csv2list(filename):\n",
    "    lists = []\n",
    "    file = open(\"../주식회사 PUBG/googleplay_pubg_feedback.csv\", \"r\", encoding = 'utf-8')\n",
    "    while True:\n",
    "        line = file.readline().rstrip(\"\\n\")\n",
    "        if line:\n",
    "            line = line.split(\",\")\n",
    "            lists.append(line)\n",
    "        else:\n",
    "            break\n",
    "    return lists\n",
    "\n",
    "feedback001 = csv2list(\"../주식회사 PUBG/googleplay_pubg_feedback.csv\")"
   ]
  },
  {
   "cell_type": "code",
   "execution_count": 3,
   "metadata": {},
   "outputs": [],
   "source": [
    "def csv2list(filename):\n",
    "    lists = []\n",
    "    file = open(\"../주식회사 PUBG/nv_pubg_feedback.csv\", \"r\", encoding = 'utf-8')\n",
    "    while True:\n",
    "        line = file.readline().rstrip(\"\\n\")\n",
    "        if line:\n",
    "            line = line.split(\",\")\n",
    "            lists.append(line)\n",
    "        else:\n",
    "            break\n",
    "    return lists\n",
    "\n",
    "feedback002 = csv2list(\"../주식회사 PUBG/nv_pubg_feedback.csv\")"
   ]
  },
  {
   "cell_type": "code",
   "execution_count": 4,
   "metadata": {},
   "outputs": [],
   "source": [
    "def csv2list(filename):\n",
    "    lists = []\n",
    "    file = open(\"../주식회사 PUBG/yt_pubg_feedback.csv\", \"r\", encoding = 'utf-8')\n",
    "    while True:\n",
    "        line = file.readline().rstrip(\"\\n\")\n",
    "        if line:\n",
    "            line = line.split(\",\")\n",
    "            lists.append(line)\n",
    "        else:\n",
    "            break\n",
    "    return lists\n",
    "\n",
    "feedback003 = csv2list(\"../주식회사 PUBG/yt_pubg_feedback.csv\")"
   ]
  },
  {
   "cell_type": "code",
   "execution_count": 5,
   "metadata": {},
   "outputs": [],
   "source": [
    "feedback000 = []\n",
    "feedback000.extend(feedback001)\n",
    "feedback000.extend(feedback002)\n",
    "feedback000.extend(feedback003)"
   ]
  },
  {
   "cell_type": "code",
   "execution_count": 40,
   "metadata": {},
   "outputs": [
    {
     "data": {
      "text/html": [
       "<div>\n",
       "<style scoped>\n",
       "    .dataframe tbody tr th:only-of-type {\n",
       "        vertical-align: middle;\n",
       "    }\n",
       "\n",
       "    .dataframe tbody tr th {\n",
       "        vertical-align: top;\n",
       "    }\n",
       "\n",
       "    .dataframe thead th {\n",
       "        text-align: right;\n",
       "    }\n",
       "</style>\n",
       "<table border=\"1\" class=\"dataframe\">\n",
       "  <thead>\n",
       "    <tr style=\"text-align: right;\">\n",
       "      <th></th>\n",
       "      <th>0</th>\n",
       "    </tr>\n",
       "  </thead>\n",
       "  <tbody>\n",
       "    <tr>\n",
       "      <th>0</th>\n",
       "      <td>다 좋은데 진짜 터치 오류가 요새 넘 심합니다 어제도 터치오류 때문에 치킨도 못먹고...</td>\n",
       "    </tr>\n",
       "    <tr>\n",
       "      <th>1</th>\n",
       "      <td>년 월 일</td>\n",
       "    </tr>\n",
       "    <tr>\n",
       "      <th>2</th>\n",
       "      <td>안녕하세요 배틀그라운드 모바일입니다 고객님께서 게임 이용 중 조작에 불편을 겪어 ...</td>\n",
       "    </tr>\n",
       "    <tr>\n",
       "      <th>3</th>\n",
       "      <td>남겨주신 리뷰 상으로는 자세한 상황을 확인하기 어렵습니다 번거로우시더라도 자세한 내...</td>\n",
       "    </tr>\n",
       "    <tr>\n",
       "      <th>4</th>\n",
       "      <td>진짜 재미있어요총 주우는 것도 빠르고 무엇보다 미사일 총이 좋아요 적외선을 사용하...</td>\n",
       "    </tr>\n",
       "    <tr>\n",
       "      <th>...</th>\n",
       "      <td>...</td>\n",
       "    </tr>\n",
       "    <tr>\n",
       "      <th>8173</th>\n",
       "      <td>éè</td>\n",
       "    </tr>\n",
       "    <tr>\n",
       "      <th>8174</th>\n",
       "      <td>미세하게 들리는 정겨운 한국어</td>\n",
       "    </tr>\n",
       "    <tr>\n",
       "      <th>8175</th>\n",
       "      <td>솔까 옷들 너무 안이쁘다</td>\n",
       "    </tr>\n",
       "    <tr>\n",
       "      <th>8176</th>\n",
       "      <td>Кагда оптимизация</td>\n",
       "    </tr>\n",
       "    <tr>\n",
       "      <th>8177</th>\n",
       "      <td>Я купил зря штоли</td>\n",
       "    </tr>\n",
       "  </tbody>\n",
       "</table>\n",
       "<p>8178 rows × 1 columns</p>\n",
       "</div>"
      ],
      "text/plain": [
       "                                                      0\n",
       "0     다 좋은데 진짜 터치 오류가 요새 넘 심합니다 어제도 터치오류 때문에 치킨도 못먹고...\n",
       "1                                                 년 월 일\n",
       "2      안녕하세요 배틀그라운드 모바일입니다 고객님께서 게임 이용 중 조작에 불편을 겪어 ...\n",
       "3     남겨주신 리뷰 상으로는 자세한 상황을 확인하기 어렵습니다 번거로우시더라도 자세한 내...\n",
       "4      진짜 재미있어요총 주우는 것도 빠르고 무엇보다 미사일 총이 좋아요 적외선을 사용하...\n",
       "...                                                 ...\n",
       "8173                                                éè \n",
       "8174                                   미세하게 들리는 정겨운 한국어\n",
       "8175                                      솔까 옷들 너무 안이쁘다\n",
       "8176                                  Кагда оптимизация\n",
       "8177                                  Я купил зря штоли\n",
       "\n",
       "[8178 rows x 1 columns]"
      ]
     },
     "execution_count": 40,
     "metadata": {},
     "output_type": "execute_result"
    }
   ],
   "source": [
    "feedback00 = sum(feedback000, [])\n",
    "token001=re.sub(r'[-=+#/\\:^.?$@*\\\"※~\\&▶%ㆍ!』}{\\;\\‘|\\_(\\)\\[\\]\\<\\>`\\'…》]+',\"\",str(feedback00))\n",
    "token002=re.sub(r'[0-9A-Za-z]+',\"\",token001)\n",
    "token003=re.sub(r'\\\\',\"\",token002)\n",
    "token004=re.sub('  ',\"\",token003)\n",
    "token005 = token004.split(',')\n",
    "token006 = pd.DataFrame(token005)\n",
    "token007 = token006[token006[0].map(len)>3]\n",
    "token008 = token007.reset_index(drop=True)\n",
    "token008"
   ]
  },
  {
   "cell_type": "code",
   "execution_count": 41,
   "metadata": {},
   "outputs": [
    {
     "data": {
      "text/html": [
       "<div>\n",
       "<style scoped>\n",
       "    .dataframe tbody tr th:only-of-type {\n",
       "        vertical-align: middle;\n",
       "    }\n",
       "\n",
       "    .dataframe tbody tr th {\n",
       "        vertical-align: top;\n",
       "    }\n",
       "\n",
       "    .dataframe thead th {\n",
       "        text-align: right;\n",
       "    }\n",
       "</style>\n",
       "<table border=\"1\" class=\"dataframe\">\n",
       "  <thead>\n",
       "    <tr style=\"text-align: right;\">\n",
       "      <th></th>\n",
       "      <th>0</th>\n",
       "    </tr>\n",
       "  </thead>\n",
       "  <tbody>\n",
       "    <tr>\n",
       "      <th>7678</th>\n",
       "      <td>😩😂😂</td>\n",
       "    </tr>\n",
       "    <tr>\n",
       "      <th>7679</th>\n",
       "      <td>นี่ล่ะ รถแบบประเทศไทยถ้ามีหญ้า หรือ ฟางอยู่ท้า...</td>\n",
       "    </tr>\n",
       "    <tr>\n",
       "      <th>7680</th>\n",
       "      <td>Τιρελεγεται</td>\n",
       "    </tr>\n",
       "    <tr>\n",
       "      <th>7681</th>\n",
       "      <td>ผุๆพังๆโครตเท่</td>\n",
       "    </tr>\n",
       "    <tr>\n",
       "      <th>7682</th>\n",
       "      <td>ЕЕЕЕ РЕСКИН ПИКАПА</td>\n",
       "    </tr>\n",
       "    <tr>\n",
       "      <th>...</th>\n",
       "      <td>...</td>\n",
       "    </tr>\n",
       "    <tr>\n",
       "      <th>8173</th>\n",
       "      <td>éè</td>\n",
       "    </tr>\n",
       "    <tr>\n",
       "      <th>8174</th>\n",
       "      <td>미세하게 들리는 정겨운 한국어</td>\n",
       "    </tr>\n",
       "    <tr>\n",
       "      <th>8175</th>\n",
       "      <td>솔까 옷들 너무 안이쁘다</td>\n",
       "    </tr>\n",
       "    <tr>\n",
       "      <th>8176</th>\n",
       "      <td>Кагда оптимизация</td>\n",
       "    </tr>\n",
       "    <tr>\n",
       "      <th>8177</th>\n",
       "      <td>Я купил зря штоли</td>\n",
       "    </tr>\n",
       "  </tbody>\n",
       "</table>\n",
       "<p>500 rows × 1 columns</p>\n",
       "</div>"
      ],
      "text/plain": [
       "                                                      0\n",
       "7678                                                😩😂😂\n",
       "7679  นี่ล่ะ รถแบบประเทศไทยถ้ามีหญ้า หรือ ฟางอยู่ท้า...\n",
       "7680                                        Τιρελεγεται\n",
       "7681                                     ผุๆพังๆโครตเท่\n",
       "7682                                 ЕЕЕЕ РЕСКИН ПИКАПА\n",
       "...                                                 ...\n",
       "8173                                                éè \n",
       "8174                                   미세하게 들리는 정겨운 한국어\n",
       "8175                                      솔까 옷들 너무 안이쁘다\n",
       "8176                                  Кагда оптимизация\n",
       "8177                                  Я купил зря штоли\n",
       "\n",
       "[500 rows x 1 columns]"
      ]
     },
     "execution_count": 41,
     "metadata": {},
     "output_type": "execute_result"
    }
   ],
   "source": [
    "token008.tail(500)"
   ]
  },
  {
   "cell_type": "code",
   "execution_count": 42,
   "metadata": {},
   "outputs": [],
   "source": [
    "token008.to_csv(\"./pubg_feedback.csv\", mode=\"a\", index=False, header=False)"
   ]
  },
  {
   "cell_type": "code",
   "execution_count": 43,
   "metadata": {},
   "outputs": [
    {
     "data": {
      "text/plain": [
       "['다 좋은데 진짜 터치 오류가 요새 넘 심합니다 어제도 터치오류 때문에 치킨도 못먹고 화면이 잘 돌아가야되는데 돌아가다가 끊기고 발사버튼을 눌렀는데도 제대로 눌러지지도 않고 그거 때문에 항상 존버만 타고 킬내지 킬밖에 못합니다 요새 터치오류 때문에 점수도 잘 안오르고 너무 화가 납니다 빠른 시일 내에 고쳐주시면 감사하겠습니다',\n",
       " '년 월 일',\n",
       " ' 안녕하세요 배틀그라운드 모바일입니다 고객님께서 게임 이용 중 조작에 불편을 겪어 리뷰를 남겨주셨네요 불편하셨을 고객님을 위해 당장이라도 도움을 드리고 싶지만',\n",
       " '남겨주신 리뷰 상으로는 자세한 상황을 확인하기 어렵습니다 번거로우시더라도 자세한 내용을 기재하여 로 문의 접수 부탁드립니다 확인 후 신속하게 답변 드릴 수 있도록 노력하겠습니다 감사합니다 ●문의신고 게임 내 우측 하단 설정좌측 하단 고객센터 선택',\n",
       " ' 진짜 재미있어요총 주우는 것도 빠르고 무엇보다 미사일 총이 좋아요 적외선을 사용하는 조준경이 멋져요조금 아쉬운 점이라면상자를 깔때 아이템 확률이 너무 적어요 다음 업데이트때 이점을 고쳐주세요 그것 빼고 정말 재밌게 플레이 하고 있어요 펍지님 감사드려용']"
      ]
     },
     "execution_count": 43,
     "metadata": {},
     "output_type": "execute_result"
    }
   ],
   "source": [
    "feedback_list=[]\n",
    "\n",
    "with open('./pubg_feedback.csv', 'r', encoding='utf-8') as f:\n",
    "    csv_reader = csv.reader(f, delimiter = '\\n')\n",
    "    for row in csv_reader:\n",
    "        feedback_list.append(row)\n",
    "\n",
    "feedback_list = sum(feedback_list, [])\n",
    "feedback_list[:5]"
   ]
  },
  {
   "cell_type": "code",
   "execution_count": null,
   "metadata": {},
   "outputs": [],
   "source": []
  }
 ],
 "metadata": {
  "kernelspec": {
   "display_name": "Python 3",
   "language": "python",
   "name": "python3"
  },
  "language_info": {
   "codemirror_mode": {
    "name": "ipython",
    "version": 3
   },
   "file_extension": ".py",
   "mimetype": "text/x-python",
   "name": "python",
   "nbconvert_exporter": "python",
   "pygments_lexer": "ipython3",
   "version": "3.7.4"
  }
 },
 "nbformat": 4,
 "nbformat_minor": 4
}
