{
 "cells": [
  {
   "cell_type": "code",
   "execution_count": 1,
   "metadata": {},
   "outputs": [],
   "source": [
    "from bs4 import BeautifulSoup\n",
    "from selenium import webdriver\n",
    "from selenium.webdriver.common.keys import Keys\n",
    "import time\n",
    "import re\n",
    "\n",
    "driver = webdriver.Chrome(executable_path = './chromedriver.exe')"
   ]
  },
  {
   "cell_type": "code",
   "execution_count": 2,
   "metadata": {},
   "outputs": [],
   "source": [
    "#웅진씽크빅 카페 검색 결과 피드백 \n",
    "base_url = 'https://m.search.naver.com/search.naver?where=m_article&sm=mtb_viw.all&query=%EC%9B%85%EC%A7%84%EC%94%BD%ED%81%AC%EB%B9%85&nso='\n",
    "driver.get(base_url)\n",
    "\n",
    "cnt = 0  # number of collected data\n",
    "time.sleep(2)\n",
    "endk = 250\n",
    "#최대 250\n",
    "while endk:\n",
    "    driver.find_element_by_tag_name('body').send_keys(Keys.END)\n",
    "    time.sleep(1)\n",
    "    endk -= 1\n",
    "\n",
    "total_html=[]"
   ]
  },
  {
   "cell_type": "code",
   "execution_count": 3,
   "metadata": {},
   "outputs": [
    {
     "name": "stdout",
     "output_type": "stream",
     "text": [
      "게시글 수 :  30\n"
     ]
    },
    {
     "name": "stderr",
     "output_type": "stream",
     "text": [
      "C:\\Program Files\\Anaconda3\\lib\\site-packages\\ipykernel_launcher.py:10: DeprecationWarning: use driver.switch_to.window instead\n",
      "  # Remove the CWD from sys.path while we load stuff.\n",
      "C:\\Program Files\\Anaconda3\\lib\\site-packages\\selenium\\webdriver\\remote\\webdriver.py:1149: UserWarning: Only 'current' window is supported for W3C compatibile browsers.\n",
      "  warnings.warn(\"Only 'current' window is supported for W3C compatibile browsers.\")\n"
     ]
    }
   ],
   "source": [
    "try :\n",
    "    quest_list = driver.find_elements_by_css_selector('a.api_txt_lines.total_tit')\n",
    "    quest_urls = [ i.get_attribute('href') for i in quest_list ]\n",
    "    print('게시글 수 : ', len(quest_urls))\n",
    "    \n",
    "    for quest in quest_urls[0:1000] :\n",
    "        try :\n",
    "            driver.execute_script('window.open(\"' + quest + '\",\"_blank\");')\n",
    "            time.sleep(1)\n",
    "            driver.switch_to_window(driver.window_handles[1])\n",
    "            driver.get_window_position(driver.window_handles[1])\n",
    "            time.sleep(1)\n",
    "            soup = driver.page_source\n",
    "            total_html.append(soup)\n",
    "            driver.close()\n",
    "            time.sleep(1)\n",
    "            driver.switch_to.window(driver.window_handles[0])\n",
    "            time.sleep(1)\n",
    "        except :\n",
    "            driver.switch_to_alert.accpet()\n",
    "            driver.switch_to_alert\n",
    "            driver.switch_to_alert.accpet()\n",
    "except:\n",
    "    pass"
   ]
  },
  {
   "cell_type": "code",
   "execution_count": 4,
   "metadata": {},
   "outputs": [],
   "source": [
    "title_text = []\n",
    "content_text = []\n",
    "feedback_text = []\n",
    "\n",
    "\n",
    "for i in range(0, 1000):\n",
    "    total001 = re.findall(r'<h2 class=\"tit\">(.*?)</h2>', total_html[i], re.DOTALL)\n",
    "    total002 = re.findall(r'<div id=\"postContent\" class=\"post_cont font_zoom1\" style=\"overflow-x:auto;\">\\n\\n\\t\\t \\n\\t\\t \\n\\t     \\n\\t\\n\\t\\t\\n\\t\\t\\n\\t\\t\\n\\t\\t\\t\\n\\t\\t\\t<p>\\n\\t\\t\\t\\t\\n\\t\\t\\t\\t\\t\\n\\t\\t\\t\\t\\t\\n\\t\\t\\t\\t\\t\\n\\t\\t\\t\\t\\t</p><p>(.*?)</p>\\n\\t\\t\\t\\t\\t\\n\\t\\t\\t\\t\\t\\n\\t\\t\\t\\t\\n\\t\\t\\t<p></p>\\n\\t\\t\\t\\t\\n\\t\\t\\n\\t\\t\\n\\n\\t\\t\\n\\n\\t\\t\\n\\t\\t\\n\\n\\n\\n\\n\\n\\n\\n\\t\\t\\n\\n\\t\\t\\n\\t\\t\\n\\n\\n\\n\\n\\n\\n\\n\\t\\t\\n\\t</div>', total_html[i], re.DOTALL)\n",
    "    total003 = re.findall(r'<p class=\"txt\">\\n\\t\\t\\t\\t\\t\\t\\t\\t\\t(.*?)</p>', total_html[i], re.DOTALL)\n",
    "    title_text.append(total001)\n",
    "    content_text.append(total002)\n",
    "    feedback_text.append(total003)\n"
   ]
  },
  {
   "cell_type": "code",
   "execution_count": 5,
   "metadata": {},
   "outputs": [
    {
     "data": {
      "text/plain": [
       "[['[5세] 웅진씽크빅vs윙크'],\n",
       " ['웅진씽크빅 교사가 많이 부족한가봐요..ㅡㅡ'],\n",
       " ['구몬vs웅진씽크빅'],\n",
       " ['웅진 씽크빅 어떤가요??'],\n",
       " ['웅진씽크빅미술~ 해보신분있을까요?(4살)'],\n",
       " ['21개월아기 프뢰벨이랑 웅진씽크빅 중 고민중이에요..'],\n",
       " ['24개월 아이 웅진씽크빅 학습지'],\n",
       " ['혹시 오늘 웅진씽크빅 시험본친구있나요?'],\n",
       " ['웅진씽크빅.초1시키기어때요?'],\n",
       " ['웅진 씽크빅 정보 부탁드려요'],\n",
       " ['웅진씽크빅 웅진스마트올 고민...'],\n",
       " ['웅진씽크빅 스마트올 어떤가요??'],\n",
       " ['웅진씽크빅or눈높이 어느게나을까요?'],\n",
       " ['한글학습지 한솔교육 웅진씽크빅 어떤게 나을까요?'],\n",
       " ['웅진북클럽?웅진씽크빅학습지?'],\n",
       " ['[교육학원] 풍덕천동에 오시는 웅진씽크빅 선생님 있으실까요?'],\n",
       " ['웅진씽크빅 7세 예비초등반 회원모집'],\n",
       " ['[관심종목] 웅진씽크빅(기준선 눌림후 재상승)'],\n",
       " ['웅진씽크빅 주가 제자리를 찾아갈 것으로 보입니다.'],\n",
       " ['웅진씽크빅 바로셈수학'],\n",
       " ['[수다] 웅진씽크빅 초단기한글'],\n",
       " ['[구인] 웅진씽크빅과 함께하실 선생님을 모십니다'],\n",
       " ['웅진씽크빅수학'],\n",
       " ['[질문이요] 백천동 웅진씽크빅이요~~'],\n",
       " ['[관심종목] 웅진씽크빅(기준선 부근)'],\n",
       " ['우리아파트 내에 웅진씽크빅공부방 있다던데요'],\n",
       " ['웅진씽크빅 놀이학습'],\n",
       " [],\n",
       " ['웅진씽크빅 패드는 개인패드는 사용이 안되나요?'],\n",
       " ['103동 이*연, 이*연 자매!? 웅진씽크빅 찾아가세요']]"
      ]
     },
     "execution_count": 5,
     "metadata": {},
     "output_type": "execute_result"
    }
   ],
   "source": [
    "title_text"
   ]
  },
  {
   "cell_type": "code",
   "execution_count": null,
   "metadata": {},
   "outputs": [],
   "source": [
    "import csv\n",
    "\n",
    "with open(\"./wj_thinkbig/wj_title.csv\", 'a', newline='', encoding=\"utf-8-sig\") as f:\n",
    "    writer = csv.writer(f)\n",
    "    writer.writerow(title_text)\n",
    "\n",
    "with open(\"./wj_thnkbig/wj_content.csv\", 'a', newline='', encoding=\"utf-8-sig\") as f:\n",
    "    writer = csv.writer(f)\n",
    "    writer.writerow(content_text)\n",
    "\n",
    "with open(\"./wj_thinkbig/wj_title.csv\", 'a', newline='', encoding=\"utf-8-sig\") as f:\n",
    "    writer = csv.writer(f)\n",
    "    writer.writerow(feedback_text)"
   ]
  },
  {
   "cell_type": "code",
   "execution_count": null,
   "metadata": {},
   "outputs": [],
   "source": []
  }
 ],
 "metadata": {
  "kernelspec": {
   "display_name": "Python 3",
   "language": "python",
   "name": "python3"
  },
  "language_info": {
   "codemirror_mode": {
    "name": "ipython",
    "version": 3
   },
   "file_extension": ".py",
   "mimetype": "text/x-python",
   "name": "python",
   "nbconvert_exporter": "python",
   "pygments_lexer": "ipython3",
   "version": "3.7.4"
  }
 },
 "nbformat": 4,
 "nbformat_minor": 4
}
