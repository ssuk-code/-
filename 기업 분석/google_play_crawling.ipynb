{
 "cells": [
  {
   "cell_type": "code",
   "execution_count": 1,
   "metadata": {},
   "outputs": [],
   "source": [
    "from bs4 import BeautifulSoup\n",
    "from selenium import webdriver\n",
    "from selenium.webdriver.common.keys import Keys\n",
    "import time\n",
    "import re\n",
    "\n",
    "driver = webdriver.Chrome(executable_path = './chromedriver.exe')"
   ]
  },
  {
   "cell_type": "code",
   "execution_count": 2,
   "metadata": {},
   "outputs": [],
   "source": [
    "#구글 플레이 PUBG 페이지 \n",
    "base_url = 'https://play.google.com/store/apps/details?id=com.pubg.krmobile&hl=ko&showAllReviews=true'\n",
    "driver.get(base_url)\n",
    "\n",
    "time.sleep(2)"
   ]
  },
  {
   "cell_type": "code",
   "execution_count": 3,
   "metadata": {},
   "outputs": [],
   "source": [
    "endk = 500\n",
    "#스크롤 숫자\n",
    "\n",
    "while endk:\n",
    "    driver.find_element_by_tag_name('body').send_keys(Keys.END)\n",
    "    time.sleep(1)\n",
    "    try:\n",
    "        next_click = driver.find_element_by_css_selector('#fcxH9b > div.WpDbMd > c-wiz > div > div.ZfcPIb > div > div.JNury.Ekdcne > div > div > div.W4P4ne > div:nth-child(2) > div.PFAhAf > div > span > span')\n",
    "        driver.execute_script('arguments[0].scrollIntoView(true);', next_click)\n",
    "        driver.execute_script(\"arguments[0].click();\", next_click)\n",
    "    except:\n",
    "        pass\n",
    "    endk -= 1"
   ]
  },
  {
   "cell_type": "code",
   "execution_count": 4,
   "metadata": {},
   "outputs": [],
   "source": [
    "feedback_list = []\n",
    "feedback001 = driver.find_elements_by_css_selector('#fcxH9b > div.WpDbMd > c-wiz > div > div.ZfcPIb > div > div.JNury.Ekdcne > div > div > div.W4P4ne > div:nth-child(2) > div:nth-child(3)')\n",
    "for i in feedback001:\n",
    "    feedback002 = i.text.split('\\n')\n",
    "    for j in feedback002:\n",
    "        if len(j) > 23:\n",
    "            feedback_list.append(j)"
   ]
  },
  {
   "cell_type": "code",
   "execution_count": 5,
   "metadata": {},
   "outputs": [],
   "source": [
    "import csv\n",
    "\n",
    "with open(\"./주식회사 PUBG/googleplay_pubg_feedback.csv\", 'a', newline='', encoding=\"utf-8-sig\") as f:\n",
    "    writer = csv.writer(f)\n",
    "    writer.writerow(feedback_list)"
   ]
  },
  {
   "cell_type": "code",
   "execution_count": null,
   "metadata": {},
   "outputs": [],
   "source": []
  }
 ],
 "metadata": {
  "kernelspec": {
   "display_name": "Python 3",
   "language": "python",
   "name": "python3"
  },
  "language_info": {
   "codemirror_mode": {
    "name": "ipython",
    "version": 3
   },
   "file_extension": ".py",
   "mimetype": "text/x-python",
   "name": "python",
   "nbconvert_exporter": "python",
   "pygments_lexer": "ipython3",
   "version": "3.7.4"
  }
 },
 "nbformat": 4,
 "nbformat_minor": 4
}
