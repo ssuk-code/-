{
 "cells": [
  {
   "cell_type": "code",
   "execution_count": 1,
   "metadata": {},
   "outputs": [],
   "source": [
    "from bs4 import BeautifulSoup\n",
    "from selenium import webdriver\n",
    "from selenium.webdriver.common.keys import Keys\n",
    "import time\n",
    "import re\n",
    "\n",
    "driver = webdriver.Chrome(executable_path = './chromedriver.exe')"
   ]
  },
  {
   "cell_type": "code",
   "execution_count": 2,
   "metadata": {},
   "outputs": [],
   "source": [
    "#krafton 블로그 카페(VIEW) 검색 결과 피드백 \n",
    "base_url = 'https://m.search.naver.com/search.naver?where=m_view&sm=mtb_jum&query=krafton'\n",
    "driver.get(base_url)\n",
    "\n",
    "cnt = 0  # number of collected data\n",
    "time.sleep(2)\n",
    "endk = 100\n",
    "#최대 250\n",
    "while endk:\n",
    "    driver.find_element_by_tag_name('body').send_keys(Keys.END)\n",
    "    time.sleep(1)\n",
    "    endk -= 1\n",
    "\n",
    "total_html=[]"
   ]
  },
  {
   "cell_type": "code",
   "execution_count": 3,
   "metadata": {},
   "outputs": [
    {
     "name": "stdout",
     "output_type": "stream",
     "text": [
      "게시글 수 :  90\n"
     ]
    },
    {
     "name": "stderr",
     "output_type": "stream",
     "text": [
      "C:\\Program Files\\Anaconda3\\lib\\site-packages\\ipykernel_launcher.py:10: DeprecationWarning: use driver.switch_to.window instead\n",
      "  # Remove the CWD from sys.path while we load stuff.\n",
      "C:\\Program Files\\Anaconda3\\lib\\site-packages\\selenium\\webdriver\\remote\\webdriver.py:1149: UserWarning: Only 'current' window is supported for W3C compatibile browsers.\n",
      "  warnings.warn(\"Only 'current' window is supported for W3C compatibile browsers.\")\n"
     ]
    }
   ],
   "source": [
    "try :\n",
    "    quest_list = driver.find_elements_by_css_selector('a.api_txt_lines.total_tit')\n",
    "    quest_urls = [ i.get_attribute('href') for i in quest_list ]\n",
    "    print('게시글 수 : ', len(quest_urls))\n",
    "    \n",
    "    for quest in quest_urls[0:len(quest_urls)] :\n",
    "        try :\n",
    "            driver.execute_script('window.open(\"' + quest + '\",\"_blank\");')\n",
    "            time.sleep(1)\n",
    "            driver.switch_to_window(driver.window_handles[1])\n",
    "            driver.get_window_position(driver.window_handles[1])\n",
    "            time.sleep(1)\n",
    "            soup = driver.page_source\n",
    "            total_html.append(soup)\n",
    "            driver.close()\n",
    "            time.sleep(1)\n",
    "            driver.switch_to.window(driver.window_handles[0])\n",
    "            time.sleep(1)\n",
    "        except :\n",
    "            driver.switch_to_alert.accpet()\n",
    "            driver.switch_to_alert\n",
    "            driver.switch_to_alert.accpet()\n",
    "except:\n",
    "    pass"
   ]
  },
  {
   "cell_type": "code",
   "execution_count": 4,
   "metadata": {},
   "outputs": [],
   "source": [
    "title_text = []\n",
    "content_text = []\n",
    "feedback_text = []\n",
    "total_text = []\n",
    "\n",
    "for i in range(0, len(quest_urls)):\n",
    "#카페\n",
    "    total001 = re.findall(r'<h2 class=\"tit\">(.*?)</h2>', total_html[i], re.DOTALL)\n",
    "    total002 = re.findall(r'<div id=\"postContent\" class=\"post_cont font_zoom1\" style=\"overflow-x:auto;\">\\n\\n\\t\\t \\n\\t\\t \\n\\t     \\n\\t\\n\\t\\t\\n\\t\\t\\n\\t\\t\\n\\t\\t\\t\\n\\t\\t\\t<p>\\n\\t\\t\\t\\t\\n\\t\\t\\t\\t\\t\\n\\t\\t\\t\\t\\t\\n\\t\\t\\t\\t\\t\\n\\t\\t\\t\\t\\t</p><p>(.*?)</p>\\n\\t\\t\\t\\t\\t\\n\\t\\t\\t\\t\\t\\n\\t\\t\\t\\t\\n\\t\\t\\t<p></p>\\n\\t\\t\\t\\t\\n\\t\\t\\n\\t\\t\\n\\n\\t\\t\\n\\n\\t\\t\\n\\t\\t\\n\\n\\n\\n\\n\\n\\n\\n\\t\\t\\n\\n\\t\\t\\n\\t\\t\\n\\n\\n\\n\\n\\n\\n\\n\\t\\t\\n\\t</div>', total_html[i], re.DOTALL)\n",
    "    total003 = re.findall(r'<p class=\"txt\">\\n\\t\\t\\t\\t\\t\\t\\t\\t\\t(.*?)</p>', total_html[i], re.DOTALL)\n",
    "#블로그 제목 + 내용\n",
    "    total004 = re.findall(r'<div class=\"se_textView\">(.*?)</div>', total_html[i], re.DOTALL)\n",
    "#블로그 제목\n",
    "    total005 = re.findall(r'<div class=\"se-module se-module-text se-title-text\">(.*?)</div>', total_html[i], re.DOTALL)\n",
    "#블로그 내용\n",
    "    total006 = re.findall(r'<div class=\"se-module se-module-text\">(.*?)</div>', total_html[i], re.DOTALL)\n",
    "#리스트에 추가\n",
    "    title_text.append(total001)\n",
    "    content_text.append(total002)\n",
    "    feedback_text.append(total003)\n",
    "    total_text.append(total004)\n",
    "    title_text.append(total005)\n",
    "    content_text.append(total006)"
   ]
  },
  {
   "cell_type": "code",
   "execution_count": 5,
   "metadata": {},
   "outputs": [],
   "source": [
    "import csv\n",
    "\n",
    "with open(\"./krafton/nv_krafton_title.csv\", 'a', newline='', encoding=\"utf-8-sig\") as f:\n",
    "    writer = csv.writer(f)\n",
    "    writer.writerow(title_text)\n",
    "\n",
    "with open(\"./krafton/nv_krafton_content.csv\", 'a', newline='', encoding=\"utf-8-sig\") as f:\n",
    "    writer = csv.writer(f)\n",
    "    writer.writerow(content_text)\n",
    "\n",
    "with open(\"./krafton/nv_krafton_feedback.csv\", 'a', newline='', encoding=\"utf-8-sig\") as f:\n",
    "    writer = csv.writer(f)\n",
    "    writer.writerow(feedback_text)\n",
    "\n",
    "with open(\"./krafton/nv_krafton_total.csv\", 'a', newline='', encoding=\"utf-8-sig\") as f:\n",
    "    writer = csv.writer(f)\n",
    "    writer.writerow(total_text)"
   ]
  },
  {
   "cell_type": "code",
   "execution_count": null,
   "metadata": {},
   "outputs": [],
   "source": []
  }
 ],
 "metadata": {
  "kernelspec": {
   "display_name": "Python 3",
   "language": "python",
   "name": "python3"
  },
  "language_info": {
   "codemirror_mode": {
    "name": "ipython",
    "version": 3
   },
   "file_extension": ".py",
   "mimetype": "text/x-python",
   "name": "python",
   "nbconvert_exporter": "python",
   "pygments_lexer": "ipython3",
   "version": "3.7.4"
  }
 },
 "nbformat": 4,
 "nbformat_minor": 4
}
