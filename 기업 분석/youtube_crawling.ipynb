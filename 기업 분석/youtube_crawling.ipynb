{
 "cells": [
  {
   "cell_type": "code",
   "execution_count": 1,
   "metadata": {},
   "outputs": [],
   "source": [
    "from bs4 import BeautifulSoup\n",
    "from selenium import webdriver\n",
    "from selenium.webdriver.common.keys import Keys\n",
    "import time\n",
    "import re\n",
    "\n",
    "driver = webdriver.Chrome(executable_path = './chromedriver.exe')"
   ]
  },
  {
   "cell_type": "code",
   "execution_count": 2,
   "metadata": {},
   "outputs": [],
   "source": [
    "#PUBG 네트워크 동영상 리스트 \n",
    "base_url = 'https://www.youtube.com/channel/UCnXDQbqIdp-HQuDyM4p12ng/videos'\n",
    "driver.get(base_url)\n",
    "\n",
    "cnt = 0  # number of collected data\n",
    "time.sleep(2)\n",
    "endk = 250\n",
    "#스크롤 숫자\n",
    "while endk:\n",
    "    driver.find_element_by_tag_name('body').send_keys(Keys.END)\n",
    "    time.sleep(1)\n",
    "    endk -= 1"
   ]
  },
  {
   "cell_type": "code",
   "execution_count": 3,
   "metadata": {},
   "outputs": [
    {
     "name": "stdout",
     "output_type": "stream",
     "text": [
      "게시글 수 :  120\n"
     ]
    }
   ],
   "source": [
    "quest_list = driver.find_elements_by_css_selector(\"a#video-title.yt-simple-endpoint.style-scope.ytd-grid-video-renderer\")\n",
    "quest_urls = [ i.get_attribute('href') for i in quest_list ]\n",
    "print('게시글 수 : ', len(quest_urls))  "
   ]
  },
  {
   "cell_type": "code",
   "execution_count": 4,
   "metadata": {},
   "outputs": [
    {
     "name": "stdout",
     "output_type": "stream",
     "text": [
      "게시글 수 :  120\n"
     ]
    },
    {
     "name": "stderr",
     "output_type": "stream",
     "text": [
      "C:\\Program Files\\Anaconda3\\lib\\site-packages\\ipykernel_launcher.py:14: DeprecationWarning: use driver.switch_to.window instead\n",
      "  \n",
      "C:\\Program Files\\Anaconda3\\lib\\site-packages\\selenium\\webdriver\\remote\\webdriver.py:1149: UserWarning: Only 'current' window is supported for W3C compatibile browsers.\n",
      "  warnings.warn(\"Only 'current' window is supported for W3C compatibile browsers.\")\n"
     ]
    }
   ],
   "source": [
    "channel_html=[]\n",
    "contents_html=[]\n",
    "try :\n",
    "    quest_list = driver.find_elements_by_css_selector(\"a#video-title.yt-simple-endpoint.style-scope.ytd-grid-video-renderer\")\n",
    "    quest_urls = [ i.get_attribute('href') for i in quest_list ]\n",
    "    print('게시글 수 : ', len(quest_urls))  \n",
    "    soup = driver.page_source\n",
    "    channel_html.append(soup)\n",
    "    \n",
    "    for quest in quest_urls[0:len(quest_urls)] :\n",
    "        try :\n",
    "            driver.execute_script('window.open(\"' + quest + '\",\"_blank\");')\n",
    "            time.sleep(1)\n",
    "            driver.switch_to_window(driver.window_handles[1])\n",
    "            driver.get_window_position(driver.window_handles[1])\n",
    "            endk = 50\n",
    "            while endk:\n",
    "                driver.find_element_by_tag_name('body').send_keys(Keys.END)\n",
    "                time.sleep(1)\n",
    "                endk -= 1\n",
    "            time.sleep(1)\n",
    "            soup = driver.page_source\n",
    "            contents_html.append(soup)\n",
    "            driver.close()\n",
    "            time.sleep(1)\n",
    "            driver.switch_to.window(driver.window_handles[0])\n",
    "            time.sleep(1)\n",
    "        except :\n",
    "            driver.switch_to_alert.accpet()\n",
    "            driver.switch_to_alert\n",
    "            driver.switch_to_alert.accpet()\n",
    "except:\n",
    "    pass"
   ]
  },
  {
   "cell_type": "code",
   "execution_count": 5,
   "metadata": {},
   "outputs": [
    {
     "data": {
      "text/plain": [
       "1"
      ]
     },
     "execution_count": 5,
     "metadata": {},
     "output_type": "execute_result"
    }
   ],
   "source": [
    "len(channel_html)"
   ]
  },
  {
   "cell_type": "code",
   "execution_count": 6,
   "metadata": {},
   "outputs": [
    {
     "data": {
      "text/plain": [
       "120"
      ]
     },
     "execution_count": 6,
     "metadata": {},
     "output_type": "execute_result"
    }
   ],
   "source": [
    "len(contents_html)"
   ]
  },
  {
   "cell_type": "code",
   "execution_count": 7,
   "metadata": {},
   "outputs": [],
   "source": [
    "title_text = []\n",
    "content_text = []\n",
    "feedback_text = []\n",
    "\n",
    "\n",
    "for i in range(0, len(contents_html)):\n",
    "    total001 = re.findall(r'<yt-formatted-string force-default-style=\"\" class=\"style-scope ytd-video-primary-info-renderer\">(.*?)</yt-formatted-string>', contents_html[i], re.DOTALL)\n",
    "    total002 = re.findall(r'<yt-formatted-string class=\"content style-scope ytd-video-secondary-info-renderer\" force-default-style=\"\" split-lines=\"\">(.*?)</yt-formatted-string>', contents_html[i], re.DOTALL)\n",
    "    total003 = re.findall(r'<yt-formatted-string id=\"content-text\" slot=\"content\" split-lines=\"\" class=\"style-scope ytd-comment-renderer\">(.*?)</yt-formatted-string>', contents_html[i], re.DOTALL)\n",
    "    title_text.append(total001)\n",
    "    content_text.append(total002)\n",
    "    feedback_text.append(total003)"
   ]
  },
  {
   "cell_type": "code",
   "execution_count": 8,
   "metadata": {},
   "outputs": [],
   "source": [
    "import csv\n",
    "\n",
    "with open(\"./주식회사 PUBG/yt_pubg_title.csv\", 'a', newline='', encoding=\"utf-8-sig\") as f:\n",
    "    writer = csv.writer(f)\n",
    "    writer.writerow(title_text)\n",
    "\n",
    "with open(\"./주식회사 PUBG/yt_pubg_content.csv\", 'a', newline='', encoding=\"utf-8-sig\") as f:\n",
    "    writer = csv.writer(f)\n",
    "    writer.writerow(content_text)\n",
    "\n",
    "with open(\"./주식회사 PUBG/yt_pubg_feedback.csv\", 'a', newline='', encoding=\"utf-8-sig\") as f:\n",
    "    writer = csv.writer(f)\n",
    "    writer.writerow(feedback_text)"
   ]
  },
  {
   "cell_type": "code",
   "execution_count": null,
   "metadata": {},
   "outputs": [],
   "source": []
  },
  {
   "cell_type": "code",
   "execution_count": null,
   "metadata": {},
   "outputs": [],
   "source": []
  },
  {
   "cell_type": "code",
   "execution_count": null,
   "metadata": {},
   "outputs": [],
   "source": []
  }
 ],
 "metadata": {
  "kernelspec": {
   "display_name": "Python 3",
   "language": "python",
   "name": "python3"
  },
  "language_info": {
   "codemirror_mode": {
    "name": "ipython",
    "version": 3
   },
   "file_extension": ".py",
   "mimetype": "text/x-python",
   "name": "python",
   "nbconvert_exporter": "python",
   "pygments_lexer": "ipython3",
   "version": "3.7.4"
  }
 },
 "nbformat": 4,
 "nbformat_minor": 4
}
