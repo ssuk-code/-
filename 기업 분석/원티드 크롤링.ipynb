{
 "cells": [
  {
   "cell_type": "code",
   "execution_count": 1,
   "metadata": {},
   "outputs": [],
   "source": [
    "from selenium import webdriver\n",
    "chromedriver_path = 'chromedriver.exe'\n",
    "driver = webdriver.Chrome(chromedriver_path)\n",
    "from selenium.webdriver.common.keys import Keys\n",
    "from urllib.request import urlopen\n",
    "import pandas as pd\n",
    "import time\n",
    "from bs4 import BeautifulSoup\n",
    "from urllib.request import urlopen"
   ]
  },
  {
   "cell_type": "code",
   "execution_count": 2,
   "metadata": {},
   "outputs": [],
   "source": [
    "# 사이트 폼\n",
    "\n",
    "# a = '' 카테고리 번호 \n",
    "#ex)파이썬 개발자 : 899, 데이터 엔지니어 : 655, 머신러닝 : 1634, 빅데이터 : 1025, BI 엔지니어 : 1022\n",
    "# b = '' 국가별\n",
    "#ex)전체 : all, 한국 : kr\n",
    "# c = '' 경력\n",
    "#ex)전쳬 : -1, 신입 : 0, 경력 1년 : 1\n",
    "\n",
    "# driver.get(f'''\n",
    "# https://www.wanted.co.kr/wdlist/518/{a}?country={b}&job_sort=job.latest_order&years={c}\n",
    "# ''')"
   ]
  },
  {
   "cell_type": "code",
   "execution_count": 3,
   "metadata": {},
   "outputs": [],
   "source": [
    "#'파이썬 개발자' 카테고리 크롤링\n",
    "#필터 한국 경력 신입으로 선택\n",
    "a = '899'\n",
    "b = 'kr'\n",
    "c = 0\n",
    "driver.get(f'''\n",
    "https://www.wanted.co.kr/wdlist/518/{a}?country={b}&job_sort=job.latest_order&years={c}\n",
    "''')\n",
    "time.sleep(5)\n",
    "endk = 50\n",
    "while endk:\n",
    "    driver.find_element_by_tag_name('body').send_keys(Keys.END)\n",
    "    time.sleep(0.3)\n",
    "    endk -= 1"
   ]
  },
  {
   "cell_type": "code",
   "execution_count": 4,
   "metadata": {},
   "outputs": [
    {
     "name": "stdout",
     "output_type": "stream",
     "text": [
      "총 27건\n"
     ]
    }
   ],
   "source": [
    "#채용정보건수\n",
    "list = driver.find_elements_by_xpath(\"//ul[@class='clearfix']/li\")\n",
    "total = []\n",
    "for i in list:\n",
    "    total.append(i.text)\n",
    "print(f'총 {len(total)}건')"
   ]
  },
  {
   "cell_type": "code",
   "execution_count": 5,
   "metadata": {},
   "outputs": [],
   "source": [
    "#채용내용\n",
    "list = driver.find_elements_by_xpath(\"//div[@class='body']/dl/dt\")\n",
    "title = []\n",
    "for i in list:\n",
    "    title.append(i.text)"
   ]
  },
  {
   "cell_type": "code",
   "execution_count": 6,
   "metadata": {},
   "outputs": [],
   "source": [
    "#채용기업\n",
    "list = driver.find_elements_by_xpath(\"//div[@class='body']/dl/dd\")\n",
    "company = []\n",
    "for i in list:\n",
    "    company.append(i.text)\n",
    "for i in range(0,len(company)):\n",
    "    text = str(company[i])\n",
    "    text = text[:-6]\n",
    "    company[i] = text"
   ]
  },
  {
   "cell_type": "code",
   "execution_count": null,
   "metadata": {},
   "outputs": [],
   "source": [
    "#주요업무(work), 자격요건(qual), 우대사항(bett), 혜택 및 복지(bene), 근무지역(loca)\n",
    "work = []\n",
    "qual = []\n",
    "bett = []\n",
    "bene = []\n",
    "loca = []\n",
    "for i in range(0, len(total)):\n",
    "    driver.get('https://www.wanted.co.kr/wdlist/518/899?country=kr&job_sort=job.latest_order&years=0')\n",
    "    time.sleep(5)\n",
    "    endk = 50\n",
    "    while endk:\n",
    "        driver.find_element_by_tag_name('body').send_keys(Keys.END)\n",
    "        time.sleep(0.3)\n",
    "        endk -= 1\n",
    "    list = driver.find_elements_by_xpath(\"//ul/li/div/a\")\n",
    "    a = driver.get(list[i].get_attribute('href'))\n",
    "    time.sleep(5)\n",
    "    list = driver.find_elements_by_xpath(\"//section[@class='_1LnfhLPc7hiSZaaXxRv11H']/p[2]/span\")\n",
    "    for i in list:\n",
    "        work.append(i.text)\n",
    "    list = driver.find_elements_by_xpath(\"//section[@class='_1LnfhLPc7hiSZaaXxRv11H']/p[3]/span\")\n",
    "    for i in list:\n",
    "        qual.append(i.text)\n",
    "    list = driver.find_elements_by_xpath(\"//section[@class='_1LnfhLPc7hiSZaaXxRv11H']/p[4]/span\")\n",
    "    for i in list:\n",
    "        bett.append(i.text)\n",
    "    list = driver.find_elements_by_xpath(\"//section[@class='_1LnfhLPc7hiSZaaXxRv11H']/p[5]/span\")\n",
    "    for i in list:\n",
    "        bene.append(i.text)\n",
    "    list = driver.find_elements_by_xpath(\"//section[@class='_3XP3DBqOgzsz7P6KrVpbGO']/div/span[@class='body']\")\n",
    "    for i in list:\n",
    "        loca.append(i.text)\n",
    "for i in range(0, len(loca), 2):\n",
    "    del loca[i]"
   ]
  },
  {
   "cell_type": "code",
   "execution_count": null,
   "metadata": {},
   "outputs": [],
   "source": [
    "# 크롤링 확인\n",
    "print(len(company))\n",
    "print(len(title))\n",
    "print(len(work))\n",
    "print(len(qual))\n",
    "print(len(bett))\n",
    "print(bene)\n",
    "print(loca)"
   ]
  },
  {
   "cell_type": "code",
   "execution_count": 10,
   "metadata": {
    "collapsed": true,
    "jupyter": {
     "outputs_hidden": true
    }
   },
   "outputs": [
    {
     "ename": "ValueError",
     "evalue": "arrays must all be same length",
     "output_type": "error",
     "traceback": [
      "\u001b[1;31m---------------------------------------------------------------------------\u001b[0m",
      "\u001b[1;31mValueError\u001b[0m                                Traceback (most recent call last)",
      "\u001b[1;32m<ipython-input-10-7dc89d86894d>\u001b[0m in \u001b[0;36m<module>\u001b[1;34m\u001b[0m\n\u001b[0;32m      1\u001b[0m \u001b[1;31m# 데이터 프레임 만들기\u001b[0m\u001b[1;33m\u001b[0m\u001b[1;33m\u001b[0m\u001b[1;33m\u001b[0m\u001b[0m\n\u001b[0;32m      2\u001b[0m \u001b[0mdict\u001b[0m \u001b[1;33m=\u001b[0m \u001b[1;33m{\u001b[0m\u001b[1;34m'채용기업'\u001b[0m\u001b[1;33m:\u001b[0m \u001b[0mcompany\u001b[0m\u001b[1;33m,\u001b[0m \u001b[1;34m'채용내용'\u001b[0m\u001b[1;33m:\u001b[0m \u001b[0mtitle\u001b[0m\u001b[1;33m,\u001b[0m \u001b[1;34m'주요업무'\u001b[0m \u001b[1;33m:\u001b[0m \u001b[0mwork\u001b[0m\u001b[1;33m,\u001b[0m \u001b[1;34m'자격요건'\u001b[0m \u001b[1;33m:\u001b[0m \u001b[0mqual\u001b[0m\u001b[1;33m,\u001b[0m \u001b[1;34m'우대사항'\u001b[0m \u001b[1;33m:\u001b[0m \u001b[0mbett\u001b[0m\u001b[1;33m,\u001b[0m \u001b[1;34m'혜택 및 복지'\u001b[0m \u001b[1;33m:\u001b[0m \u001b[0mbene\u001b[0m\u001b[1;33m,\u001b[0m \u001b[1;34m'근무지역'\u001b[0m \u001b[1;33m:\u001b[0m \u001b[0mloca\u001b[0m\u001b[1;33m}\u001b[0m\u001b[1;33m\u001b[0m\u001b[1;33m\u001b[0m\u001b[0m\n\u001b[1;32m----> 3\u001b[1;33m \u001b[0mdf\u001b[0m \u001b[1;33m=\u001b[0m \u001b[0mpd\u001b[0m\u001b[1;33m.\u001b[0m\u001b[0mDataFrame\u001b[0m\u001b[1;33m(\u001b[0m\u001b[0mdict\u001b[0m\u001b[1;33m)\u001b[0m\u001b[1;33m\u001b[0m\u001b[1;33m\u001b[0m\u001b[0m\n\u001b[0m\u001b[0;32m      4\u001b[0m \u001b[1;31m#데이터 프레임 csv 저장\u001b[0m\u001b[1;33m\u001b[0m\u001b[1;33m\u001b[0m\u001b[1;33m\u001b[0m\u001b[0m\n\u001b[0;32m      5\u001b[0m \u001b[0mdf\u001b[0m\u001b[1;33m.\u001b[0m\u001b[0mto_csv\u001b[0m\u001b[1;33m(\u001b[0m\u001b[1;34m\"파이썬 개발자.csv\"\u001b[0m\u001b[1;33m,\u001b[0m \u001b[0mmode\u001b[0m\u001b[1;33m=\u001b[0m\u001b[1;34m'w'\u001b[0m\u001b[1;33m,\u001b[0m \u001b[0mencoding\u001b[0m\u001b[1;33m=\u001b[0m\u001b[1;34m'utf-8'\u001b[0m\u001b[1;33m)\u001b[0m\u001b[1;33m\u001b[0m\u001b[1;33m\u001b[0m\u001b[0m\n",
      "\u001b[1;32mC:\\ProgramData\\Anaconda3\\lib\\site-packages\\pandas\\core\\frame.py\u001b[0m in \u001b[0;36m__init__\u001b[1;34m(self, data, index, columns, dtype, copy)\u001b[0m\n\u001b[0;32m    409\u001b[0m             )\n\u001b[0;32m    410\u001b[0m         \u001b[1;32melif\u001b[0m \u001b[0misinstance\u001b[0m\u001b[1;33m(\u001b[0m\u001b[0mdata\u001b[0m\u001b[1;33m,\u001b[0m \u001b[0mdict\u001b[0m\u001b[1;33m)\u001b[0m\u001b[1;33m:\u001b[0m\u001b[1;33m\u001b[0m\u001b[1;33m\u001b[0m\u001b[0m\n\u001b[1;32m--> 411\u001b[1;33m             \u001b[0mmgr\u001b[0m \u001b[1;33m=\u001b[0m \u001b[0minit_dict\u001b[0m\u001b[1;33m(\u001b[0m\u001b[0mdata\u001b[0m\u001b[1;33m,\u001b[0m \u001b[0mindex\u001b[0m\u001b[1;33m,\u001b[0m \u001b[0mcolumns\u001b[0m\u001b[1;33m,\u001b[0m \u001b[0mdtype\u001b[0m\u001b[1;33m=\u001b[0m\u001b[0mdtype\u001b[0m\u001b[1;33m)\u001b[0m\u001b[1;33m\u001b[0m\u001b[1;33m\u001b[0m\u001b[0m\n\u001b[0m\u001b[0;32m    412\u001b[0m         \u001b[1;32melif\u001b[0m \u001b[0misinstance\u001b[0m\u001b[1;33m(\u001b[0m\u001b[0mdata\u001b[0m\u001b[1;33m,\u001b[0m \u001b[0mma\u001b[0m\u001b[1;33m.\u001b[0m\u001b[0mMaskedArray\u001b[0m\u001b[1;33m)\u001b[0m\u001b[1;33m:\u001b[0m\u001b[1;33m\u001b[0m\u001b[1;33m\u001b[0m\u001b[0m\n\u001b[0;32m    413\u001b[0m             \u001b[1;32mimport\u001b[0m \u001b[0mnumpy\u001b[0m\u001b[1;33m.\u001b[0m\u001b[0mma\u001b[0m\u001b[1;33m.\u001b[0m\u001b[0mmrecords\u001b[0m \u001b[1;32mas\u001b[0m \u001b[0mmrecords\u001b[0m\u001b[1;33m\u001b[0m\u001b[1;33m\u001b[0m\u001b[0m\n",
      "\u001b[1;32mC:\\ProgramData\\Anaconda3\\lib\\site-packages\\pandas\\core\\internals\\construction.py\u001b[0m in \u001b[0;36minit_dict\u001b[1;34m(data, index, columns, dtype)\u001b[0m\n\u001b[0;32m    255\u001b[0m             \u001b[0marr\u001b[0m \u001b[1;32mif\u001b[0m \u001b[1;32mnot\u001b[0m \u001b[0mis_datetime64tz_dtype\u001b[0m\u001b[1;33m(\u001b[0m\u001b[0marr\u001b[0m\u001b[1;33m)\u001b[0m \u001b[1;32melse\u001b[0m \u001b[0marr\u001b[0m\u001b[1;33m.\u001b[0m\u001b[0mcopy\u001b[0m\u001b[1;33m(\u001b[0m\u001b[1;33m)\u001b[0m \u001b[1;32mfor\u001b[0m \u001b[0marr\u001b[0m \u001b[1;32min\u001b[0m \u001b[0marrays\u001b[0m\u001b[1;33m\u001b[0m\u001b[1;33m\u001b[0m\u001b[0m\n\u001b[0;32m    256\u001b[0m         ]\n\u001b[1;32m--> 257\u001b[1;33m     \u001b[1;32mreturn\u001b[0m \u001b[0marrays_to_mgr\u001b[0m\u001b[1;33m(\u001b[0m\u001b[0marrays\u001b[0m\u001b[1;33m,\u001b[0m \u001b[0mdata_names\u001b[0m\u001b[1;33m,\u001b[0m \u001b[0mindex\u001b[0m\u001b[1;33m,\u001b[0m \u001b[0mcolumns\u001b[0m\u001b[1;33m,\u001b[0m \u001b[0mdtype\u001b[0m\u001b[1;33m=\u001b[0m\u001b[0mdtype\u001b[0m\u001b[1;33m)\u001b[0m\u001b[1;33m\u001b[0m\u001b[1;33m\u001b[0m\u001b[0m\n\u001b[0m\u001b[0;32m    258\u001b[0m \u001b[1;33m\u001b[0m\u001b[0m\n\u001b[0;32m    259\u001b[0m \u001b[1;33m\u001b[0m\u001b[0m\n",
      "\u001b[1;32mC:\\ProgramData\\Anaconda3\\lib\\site-packages\\pandas\\core\\internals\\construction.py\u001b[0m in \u001b[0;36marrays_to_mgr\u001b[1;34m(arrays, arr_names, index, columns, dtype)\u001b[0m\n\u001b[0;32m     75\u001b[0m     \u001b[1;31m# figure out the index, if necessary\u001b[0m\u001b[1;33m\u001b[0m\u001b[1;33m\u001b[0m\u001b[1;33m\u001b[0m\u001b[0m\n\u001b[0;32m     76\u001b[0m     \u001b[1;32mif\u001b[0m \u001b[0mindex\u001b[0m \u001b[1;32mis\u001b[0m \u001b[1;32mNone\u001b[0m\u001b[1;33m:\u001b[0m\u001b[1;33m\u001b[0m\u001b[1;33m\u001b[0m\u001b[0m\n\u001b[1;32m---> 77\u001b[1;33m         \u001b[0mindex\u001b[0m \u001b[1;33m=\u001b[0m \u001b[0mextract_index\u001b[0m\u001b[1;33m(\u001b[0m\u001b[0marrays\u001b[0m\u001b[1;33m)\u001b[0m\u001b[1;33m\u001b[0m\u001b[1;33m\u001b[0m\u001b[0m\n\u001b[0m\u001b[0;32m     78\u001b[0m     \u001b[1;32melse\u001b[0m\u001b[1;33m:\u001b[0m\u001b[1;33m\u001b[0m\u001b[1;33m\u001b[0m\u001b[0m\n\u001b[0;32m     79\u001b[0m         \u001b[0mindex\u001b[0m \u001b[1;33m=\u001b[0m \u001b[0mensure_index\u001b[0m\u001b[1;33m(\u001b[0m\u001b[0mindex\u001b[0m\u001b[1;33m)\u001b[0m\u001b[1;33m\u001b[0m\u001b[1;33m\u001b[0m\u001b[0m\n",
      "\u001b[1;32mC:\\ProgramData\\Anaconda3\\lib\\site-packages\\pandas\\core\\internals\\construction.py\u001b[0m in \u001b[0;36mextract_index\u001b[1;34m(data)\u001b[0m\n\u001b[0;32m    366\u001b[0m             \u001b[0mlengths\u001b[0m \u001b[1;33m=\u001b[0m \u001b[0mlist\u001b[0m\u001b[1;33m(\u001b[0m\u001b[0mset\u001b[0m\u001b[1;33m(\u001b[0m\u001b[0mraw_lengths\u001b[0m\u001b[1;33m)\u001b[0m\u001b[1;33m)\u001b[0m\u001b[1;33m\u001b[0m\u001b[1;33m\u001b[0m\u001b[0m\n\u001b[0;32m    367\u001b[0m             \u001b[1;32mif\u001b[0m \u001b[0mlen\u001b[0m\u001b[1;33m(\u001b[0m\u001b[0mlengths\u001b[0m\u001b[1;33m)\u001b[0m \u001b[1;33m>\u001b[0m \u001b[1;36m1\u001b[0m\u001b[1;33m:\u001b[0m\u001b[1;33m\u001b[0m\u001b[1;33m\u001b[0m\u001b[0m\n\u001b[1;32m--> 368\u001b[1;33m                 \u001b[1;32mraise\u001b[0m \u001b[0mValueError\u001b[0m\u001b[1;33m(\u001b[0m\u001b[1;34m\"arrays must all be same length\"\u001b[0m\u001b[1;33m)\u001b[0m\u001b[1;33m\u001b[0m\u001b[1;33m\u001b[0m\u001b[0m\n\u001b[0m\u001b[0;32m    369\u001b[0m \u001b[1;33m\u001b[0m\u001b[0m\n\u001b[0;32m    370\u001b[0m             \u001b[1;32mif\u001b[0m \u001b[0mhave_dicts\u001b[0m\u001b[1;33m:\u001b[0m\u001b[1;33m\u001b[0m\u001b[1;33m\u001b[0m\u001b[0m\n",
      "\u001b[1;31mValueError\u001b[0m: arrays must all be same length"
     ]
    }
   ],
   "source": [
    "# 데이터 프레임 만들기\n",
    "dict = {'채용기업': company, '채용내용': title, '주요업무' : work, '자격요건' : qual, '우대사항' : bett, '혜택 및 복지' : bene, '근무지역' : loca}\n",
    "df = pd.DataFrame(dict)\n",
    "#데이터 프레임 csv 저장\n",
    "df.to_csv(\"파이썬 개발자.csv\", mode='w', encoding='utf-8')"
   ]
  },
  {
   "cell_type": "code",
   "execution_count": null,
   "metadata": {},
   "outputs": [],
   "source": [
    "#'데이터 엔지니어' 카테고리 크롤링\n",
    "#필터 한국 경력 신입으로 선택\n",
    "a = '655'\n",
    "b = 'kr'\n",
    "c = 0\n",
    "driver.get(f'''\n",
    "https://www.wanted.co.kr/wdlist/518/{a}?country={b}&job_sort=job.latest_order&years={c}\n",
    "''')\n",
    "time.sleep(5)\n",
    "endk = 50\n",
    "while endk:\n",
    "    driver.find_element_by_tag_name('body').send_keys(Keys.END)\n",
    "    time.sleep(0.3)\n",
    "    endk -= 1"
   ]
  },
  {
   "cell_type": "code",
   "execution_count": null,
   "metadata": {},
   "outputs": [],
   "source": [
    "#채용정보건수\n",
    "list = driver.find_elements_by_xpath(\"//ul[@class='clearfix']/li\")\n",
    "total = []\n",
    "for i in list:\n",
    "    total.append(i.text)\n",
    "print(f'총 {len(total)}건')"
   ]
  },
  {
   "cell_type": "code",
   "execution_count": null,
   "metadata": {},
   "outputs": [],
   "source": [
    "#채용내용\n",
    "list = driver.find_elements_by_xpath(\"//div[@class='body']/dl/dt\")\n",
    "title = []\n",
    "for i in list:\n",
    "    title.append(i.text)"
   ]
  },
  {
   "cell_type": "code",
   "execution_count": null,
   "metadata": {},
   "outputs": [],
   "source": [
    "#채용기업\n",
    "list = driver.find_elements_by_xpath(\"//div[@class='body']/dl/dd\")\n",
    "company = []\n",
    "for i in list:\n",
    "    company.append(i.text)\n",
    "for i in range(0,len(company)):\n",
    "    text = str(company[i])\n",
    "    text = text[:-6]\n",
    "    company[i] = text"
   ]
  },
  {
   "cell_type": "code",
   "execution_count": null,
   "metadata": {},
   "outputs": [],
   "source": [
    "#주요업무(work), 자격요건(qual), 우대사항(bett), 혜택 및 복지(bene), 근무지역(loca)\n",
    "work = []\n",
    "qual = []\n",
    "bett = []\n",
    "bene = []\n",
    "loca = []\n",
    "for i in range(0, len(total)):\n",
    "    driver.get('https://www.wanted.co.kr/wdlist/518/899?country=kr&job_sort=job.latest_order&years=0')\n",
    "    time.sleep(5)\n",
    "    endk = 50\n",
    "    while endk:\n",
    "        driver.find_element_by_tag_name('body').send_keys(Keys.END)\n",
    "        time.sleep(0.3)\n",
    "        endk -= 1\n",
    "    list = driver.find_elements_by_xpath(\"//ul/li/div/a\")\n",
    "    a = driver.get(list[i].get_attribute('href'))\n",
    "    time.sleep(5)\n",
    "    list = driver.find_elements_by_xpath(\"//section[@class='_1LnfhLPc7hiSZaaXxRv11H']/p[2]/span\")\n",
    "    for i in list:\n",
    "        work.append(i.text)\n",
    "    list = driver.find_elements_by_xpath(\"//section[@class='_1LnfhLPc7hiSZaaXxRv11H']/p[3]/span\")\n",
    "    for i in list:\n",
    "        qual.append(i.text)\n",
    "    list = driver.find_elements_by_xpath(\"//section[@class='_1LnfhLPc7hiSZaaXxRv11H']/p[4]/span\")\n",
    "    for i in list:\n",
    "        bett.append(i.text)\n",
    "    list = driver.find_elements_by_xpath(\"//section[@class='_1LnfhLPc7hiSZaaXxRv11H']/p[5]/span\")\n",
    "    for i in list:\n",
    "        bene.append(i.text)\n",
    "    list = driver.find_elements_by_xpath(\"//section[@class='_3XP3DBqOgzsz7P6KrVpbGO']/div/span[@class='body']\")\n",
    "    for i in list:\n",
    "        loca.append(i.text)\n",
    "for i in range(0, len(loca), 2):\n",
    "    del loca[i]"
   ]
  },
  {
   "cell_type": "code",
   "execution_count": null,
   "metadata": {},
   "outputs": [],
   "source": [
    "# 크롤링 확인\n",
    "print(len(company))\n",
    "print(len(title))\n",
    "print(len(work))\n",
    "print(len(qual))\n",
    "print(len(bett))\n",
    "print(bene)\n",
    "print(loca)"
   ]
  },
  {
   "cell_type": "code",
   "execution_count": null,
   "metadata": {},
   "outputs": [],
   "source": [
    "# 데이터 프레임 만들기\n",
    "dict = {'채용기업': company, '채용내용': title, '주요업무' : work, '자격요건' : qual, '우대사항' : bett, '혜택 및 복지' : bene, '근무지역' : loca}\n",
    "df = pd.DataFrame(dict)\n",
    "#데이터 프레임 csv 저장\n",
    "df.to_csv(\"데이터 엔지니어.csv\", mode='w', encoding='utf-8')"
   ]
  },
  {
   "cell_type": "code",
   "execution_count": null,
   "metadata": {},
   "outputs": [],
   "source": [
    "#'머신러닝' 카테고리 크롤링\n",
    "#필터 한국 경력 신입으로 선택\n",
    "a = '1634'\n",
    "b = 'kr'\n",
    "c = 0\n",
    "driver.get(f'''\n",
    "https://www.wanted.co.kr/wdlist/518/{a}?country={b}&job_sort=job.latest_order&years={c}\n",
    "''')\n",
    "time.sleep(5)\n",
    "endk = 50\n",
    "while endk:\n",
    "    driver.find_element_by_tag_name('body').send_keys(Keys.END)\n",
    "    time.sleep(0.3)\n",
    "    endk -= 1"
   ]
  },
  {
   "cell_type": "code",
   "execution_count": null,
   "metadata": {},
   "outputs": [],
   "source": [
    "#채용정보건수\n",
    "list = driver.find_elements_by_xpath(\"//ul[@class='clearfix']/li\")\n",
    "total = []\n",
    "for i in list:\n",
    "    total.append(i.text)\n",
    "print(f'총 {len(total)}건')"
   ]
  },
  {
   "cell_type": "code",
   "execution_count": null,
   "metadata": {},
   "outputs": [],
   "source": [
    "#채용내용\n",
    "list = driver.find_elements_by_xpath(\"//div[@class='body']/dl/dt\")\n",
    "title = []\n",
    "for i in list:\n",
    "    title.append(i.text)"
   ]
  },
  {
   "cell_type": "code",
   "execution_count": null,
   "metadata": {},
   "outputs": [],
   "source": [
    "#채용기업\n",
    "list = driver.find_elements_by_xpath(\"//div[@class='body']/dl/dd\")\n",
    "company = []\n",
    "for i in list:\n",
    "    company.append(i.text)\n",
    "for i in range(0,len(company)):\n",
    "    text = str(company[i])\n",
    "    text = text[:-6]\n",
    "    company[i] = text"
   ]
  },
  {
   "cell_type": "code",
   "execution_count": null,
   "metadata": {},
   "outputs": [],
   "source": [
    "#주요업무(work), 자격요건(qual), 우대사항(bett), 혜택 및 복지(bene), 근무지역(loca)\n",
    "work = []\n",
    "qual = []\n",
    "bett = []\n",
    "bene = []\n",
    "loca = []\n",
    "for i in range(0, len(total)):\n",
    "    driver.get('https://www.wanted.co.kr/wdlist/518/899?country=kr&job_sort=job.latest_order&years=0')\n",
    "    time.sleep(5)\n",
    "    endk = 50\n",
    "    while endk:\n",
    "        driver.find_element_by_tag_name('body').send_keys(Keys.END)\n",
    "        time.sleep(0.3)\n",
    "        endk -= 1\n",
    "    list = driver.find_elements_by_xpath(\"//ul/li/div/a\")\n",
    "    a = driver.get(list[i].get_attribute('href'))\n",
    "    time.sleep(5)\n",
    "    list = driver.find_elements_by_xpath(\"//section[@class='_1LnfhLPc7hiSZaaXxRv11H']/p[2]/span\")\n",
    "    for i in list:\n",
    "        work.append(i.text)\n",
    "    list = driver.find_elements_by_xpath(\"//section[@class='_1LnfhLPc7hiSZaaXxRv11H']/p[3]/span\")\n",
    "    for i in list:\n",
    "        qual.append(i.text)\n",
    "    list = driver.find_elements_by_xpath(\"//section[@class='_1LnfhLPc7hiSZaaXxRv11H']/p[4]/span\")\n",
    "    for i in list:\n",
    "        bett.append(i.text)\n",
    "    list = driver.find_elements_by_xpath(\"//section[@class='_1LnfhLPc7hiSZaaXxRv11H']/p[5]/span\")\n",
    "    for i in list:\n",
    "        bene.append(i.text)\n",
    "    list = driver.find_elements_by_xpath(\"//section[@class='_3XP3DBqOgzsz7P6KrVpbGO']/div/span[@class='body']\")\n",
    "    for i in list:\n",
    "        loca.append(i.text)\n",
    "for i in range(0, len(loca), 2):\n",
    "    del loca[i]"
   ]
  },
  {
   "cell_type": "code",
   "execution_count": null,
   "metadata": {},
   "outputs": [],
   "source": [
    "# 크롤링 확인\n",
    "print(len(company))\n",
    "print(len(title))\n",
    "print(len(work))\n",
    "print(len(qual))\n",
    "print(len(bett))\n",
    "print(bene)\n",
    "print(loca)"
   ]
  },
  {
   "cell_type": "code",
   "execution_count": null,
   "metadata": {},
   "outputs": [],
   "source": [
    "# 데이터 프레임 만들기\n",
    "dict = {'채용기업': company, '채용내용': title, '주요업무' : work, '자격요건' : qual, '우대사항' : bett, '혜택 및 복지' : bene, '근무지역' : loca}\n",
    "df = pd.DataFrame(dict)\n",
    "#데이터 프레임 csv 저장\n",
    "df.to_csv(\"머신러닝.csv\", mode='w', encoding='utf-8')"
   ]
  },
  {
   "cell_type": "code",
   "execution_count": null,
   "metadata": {},
   "outputs": [],
   "source": [
    "#'빅데이터' 카테고리 크롤링\n",
    "#필터 한국 경력 신입으로 선택\n",
    "a = '1025'\n",
    "b = 'kr'\n",
    "c = 0\n",
    "driver.get(f'''\n",
    "https://www.wanted.co.kr/wdlist/518/{a}?country={b}&job_sort=job.latest_order&years={c}\n",
    "''')\n",
    "time.sleep(5)\n",
    "endk = 50\n",
    "while endk:\n",
    "    driver.find_element_by_tag_name('body').send_keys(Keys.END)\n",
    "    time.sleep(0.3)\n",
    "    endk -= 1"
   ]
  },
  {
   "cell_type": "code",
   "execution_count": null,
   "metadata": {},
   "outputs": [],
   "source": [
    "#채용정보건수\n",
    "list = driver.find_elements_by_xpath(\"//ul[@class='clearfix']/li\")\n",
    "total = []\n",
    "for i in list:\n",
    "    total.append(i.text)\n",
    "print(f'총 {len(total)}건')"
   ]
  },
  {
   "cell_type": "code",
   "execution_count": null,
   "metadata": {},
   "outputs": [],
   "source": [
    "#채용내용\n",
    "list = driver.find_elements_by_xpath(\"//div[@class='body']/dl/dt\")\n",
    "title = []\n",
    "for i in list:\n",
    "    title.append(i.text)"
   ]
  },
  {
   "cell_type": "code",
   "execution_count": null,
   "metadata": {},
   "outputs": [],
   "source": [
    "#채용기업\n",
    "list = driver.find_elements_by_xpath(\"//div[@class='body']/dl/dd\")\n",
    "company = []\n",
    "for i in list:\n",
    "    company.append(i.text)\n",
    "for i in range(0,len(company)):\n",
    "    text = str(company[i])\n",
    "    text = text[:-6]\n",
    "    company[i] = text"
   ]
  },
  {
   "cell_type": "code",
   "execution_count": null,
   "metadata": {},
   "outputs": [],
   "source": [
    "#주요업무(work), 자격요건(qual), 우대사항(bett), 혜택 및 복지(bene), 근무지역(loca)\n",
    "work = []\n",
    "qual = []\n",
    "bett = []\n",
    "bene = []\n",
    "loca = []\n",
    "for i in range(0, len(total)):\n",
    "    driver.get('https://www.wanted.co.kr/wdlist/518/899?country=kr&job_sort=job.latest_order&years=0')\n",
    "    time.sleep(5)\n",
    "    endk = 50\n",
    "    while endk:\n",
    "        driver.find_element_by_tag_name('body').send_keys(Keys.END)\n",
    "        time.sleep(0.3)\n",
    "        endk -= 1\n",
    "    list = driver.find_elements_by_xpath(\"//ul/li/div/a\")\n",
    "    a = driver.get(list[i].get_attribute('href'))\n",
    "    time.sleep(5)\n",
    "    list = driver.find_elements_by_xpath(\"//section[@class='_1LnfhLPc7hiSZaaXxRv11H']/p[2]/span\")\n",
    "    for i in list:\n",
    "        work.append(i.text)\n",
    "    list = driver.find_elements_by_xpath(\"//section[@class='_1LnfhLPc7hiSZaaXxRv11H']/p[3]/span\")\n",
    "    for i in list:\n",
    "        qual.append(i.text)\n",
    "    list = driver.find_elements_by_xpath(\"//section[@class='_1LnfhLPc7hiSZaaXxRv11H']/p[4]/span\")\n",
    "    for i in list:\n",
    "        bett.append(i.text)\n",
    "    list = driver.find_elements_by_xpath(\"//section[@class='_1LnfhLPc7hiSZaaXxRv11H']/p[5]/span\")\n",
    "    for i in list:\n",
    "        bene.append(i.text)\n",
    "    list = driver.find_elements_by_xpath(\"//section[@class='_3XP3DBqOgzsz7P6KrVpbGO']/div/span[@class='body']\")\n",
    "    for i in list:\n",
    "        loca.append(i.text)\n",
    "for i in range(0, len(loca), 2):\n",
    "    del loca[i]"
   ]
  },
  {
   "cell_type": "code",
   "execution_count": null,
   "metadata": {},
   "outputs": [],
   "source": [
    "# 크롤링 확인\n",
    "print(len(company))\n",
    "print(len(title))\n",
    "print(len(work))\n",
    "print(len(qual))\n",
    "print(len(bett))\n",
    "print(bene)\n",
    "print(loca)"
   ]
  },
  {
   "cell_type": "code",
   "execution_count": null,
   "metadata": {},
   "outputs": [],
   "source": [
    "# 데이터 프레임 만들기\n",
    "dict = {'채용기업': company, '채용내용': title, '주요업무' : work, '자격요건' : qual, '우대사항' : bett, '혜택 및 복지' : bene, '근무지역' : loca}\n",
    "df = pd.DataFrame(dict)\n",
    "#데이터 프레임 csv 저장\n",
    "df.to_csv(\"빅데이터.csv\", mode='w', encoding='utf-8')"
   ]
  },
  {
   "cell_type": "code",
   "execution_count": null,
   "metadata": {},
   "outputs": [],
   "source": [
    "#'BI 엔지니어' 카테고리 크롤링\n",
    "#필터 한국 경력 신입으로 선택\n",
    "a = '1022'\n",
    "b = 'kr'\n",
    "c = 0\n",
    "driver.get(f'''\n",
    "https://www.wanted.co.kr/wdlist/518/{a}?country={b}&job_sort=job.latest_order&years={c}\n",
    "''')\n",
    "time.sleep(5)\n",
    "endk = 50\n",
    "while endk:\n",
    "    driver.find_element_by_tag_name('body').send_keys(Keys.END)\n",
    "    time.sleep(0.3)\n",
    "    endk -= 1"
   ]
  },
  {
   "cell_type": "code",
   "execution_count": null,
   "metadata": {},
   "outputs": [],
   "source": [
    "#채용정보건수\n",
    "list = driver.find_elements_by_xpath(\"//ul[@class='clearfix']/li\")\n",
    "total = []\n",
    "for i in list:\n",
    "    total.append(i.text)\n",
    "print(f'총 {len(total)}건')"
   ]
  },
  {
   "cell_type": "code",
   "execution_count": null,
   "metadata": {},
   "outputs": [],
   "source": [
    "#채용내용\n",
    "list = driver.find_elements_by_xpath(\"//div[@class='body']/dl/dt\")\n",
    "title = []\n",
    "for i in list:\n",
    "    title.append(i.text)"
   ]
  },
  {
   "cell_type": "code",
   "execution_count": null,
   "metadata": {},
   "outputs": [],
   "source": [
    "#채용기업\n",
    "list = driver.find_elements_by_xpath(\"//div[@class='body']/dl/dd\")\n",
    "company = []\n",
    "for i in list:\n",
    "    company.append(i.text)\n",
    "for i in range(0,len(company)):\n",
    "    text = str(company[i])\n",
    "    text = text[:-6]\n",
    "    company[i] = text"
   ]
  },
  {
   "cell_type": "code",
   "execution_count": null,
   "metadata": {},
   "outputs": [],
   "source": [
    "#주요업무(work), 자격요건(qual), 우대사항(bett), 혜택 및 복지(bene), 근무지역(loca)\n",
    "work = []\n",
    "qual = []\n",
    "bett = []\n",
    "bene = []\n",
    "loca = []\n",
    "for i in range(0, len(total)):\n",
    "    driver.get('https://www.wanted.co.kr/wdlist/518/899?country=kr&job_sort=job.latest_order&years=0')\n",
    "    time.sleep(5)\n",
    "    endk = 50\n",
    "    while endk:\n",
    "        driver.find_element_by_tag_name('body').send_keys(Keys.END)\n",
    "        time.sleep(0.3)\n",
    "        endk -= 1\n",
    "    list = driver.find_elements_by_xpath(\"//ul/li/div/a\")\n",
    "    a = driver.get(list[i].get_attribute('href'))\n",
    "    time.sleep(5)\n",
    "    list = driver.find_elements_by_xpath(\"//section[@class='_1LnfhLPc7hiSZaaXxRv11H']/p[2]/span\")\n",
    "    for i in list:\n",
    "        work.append(i.text)\n",
    "    list = driver.find_elements_by_xpath(\"//section[@class='_1LnfhLPc7hiSZaaXxRv11H']/p[3]/span\")\n",
    "    for i in list:\n",
    "        qual.append(i.text)\n",
    "    list = driver.find_elements_by_xpath(\"//section[@class='_1LnfhLPc7hiSZaaXxRv11H']/p[4]/span\")\n",
    "    for i in list:\n",
    "        bett.append(i.text)\n",
    "    list = driver.find_elements_by_xpath(\"//section[@class='_1LnfhLPc7hiSZaaXxRv11H']/p[5]/span\")\n",
    "    for i in list:\n",
    "        bene.append(i.text)\n",
    "    list = driver.find_elements_by_xpath(\"//section[@class='_3XP3DBqOgzsz7P6KrVpbGO']/div/span[@class='body']\")\n",
    "    for i in list:\n",
    "        loca.append(i.text)\n",
    "for i in range(0, len(loca), 2):\n",
    "    del loca[i]"
   ]
  },
  {
   "cell_type": "code",
   "execution_count": null,
   "metadata": {},
   "outputs": [],
   "source": [
    "# 크롤링 확인\n",
    "print(len(company))\n",
    "print(len(title))\n",
    "print(len(work))\n",
    "print(len(qual))\n",
    "print(len(bett))\n",
    "print(bene)\n",
    "print(loca)"
   ]
  },
  {
   "cell_type": "code",
   "execution_count": null,
   "metadata": {},
   "outputs": [],
   "source": [
    "# 데이터 프레임 만들기\n",
    "dict = {'채용기업': company, '채용내용': title, '주요업무' : work, '자격요건' : qual, '우대사항' : bett, '혜택 및 복지' : bene, '근무지역' : loca}\n",
    "df = pd.DataFrame(dict)\n",
    "#데이터 프레임 csv 저장\n",
    "df.to_csv(\"BI 엔지니어.csv\", mode='w', encoding='utf-8')"
   ]
  }
 ],
 "metadata": {
  "kernelspec": {
   "display_name": "Python 3",
   "language": "python",
   "name": "python3"
  },
  "language_info": {
   "codemirror_mode": {
    "name": "ipython",
    "version": 3
   },
   "file_extension": ".py",
   "mimetype": "text/x-python",
   "name": "python",
   "nbconvert_exporter": "python",
   "pygments_lexer": "ipython3",
   "version": "3.7.4"
  }
 },
 "nbformat": 4,
 "nbformat_minor": 4
}
