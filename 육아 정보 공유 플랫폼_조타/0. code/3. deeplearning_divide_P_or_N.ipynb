{
 "cells": [
  {
   "cell_type": "code",
   "execution_count": 1,
   "metadata": {},
   "outputs": [
    {
     "name": "stderr",
     "output_type": "stream",
     "text": [
      "Using TensorFlow backend.\n"
     ]
    },
    {
     "name": "stdout",
     "output_type": "stream",
     "text": [
      "WARNING:tensorflow:From C:\\Users\\dlstn\\.conda\\envs\\tensor1.15\\lib\\site-packages\\keras\\backend\\tensorflow_backend.py:74: The name tf.get_default_graph is deprecated. Please use tf.compat.v1.get_default_graph instead.\n",
      "\n",
      "WARNING:tensorflow:From C:\\Users\\dlstn\\.conda\\envs\\tensor1.15\\lib\\site-packages\\keras\\backend\\tensorflow_backend.py:517: The name tf.placeholder is deprecated. Please use tf.compat.v1.placeholder instead.\n",
      "\n",
      "WARNING:tensorflow:From C:\\Users\\dlstn\\.conda\\envs\\tensor1.15\\lib\\site-packages\\keras\\backend\\tensorflow_backend.py:4138: The name tf.random_uniform is deprecated. Please use tf.random.uniform instead.\n",
      "\n"
     ]
    }
   ],
   "source": [
    "from keras import models\n",
    "from keras import layers\n",
    "\n",
    "model = models.Sequential()\n",
    "# 첫 번째 차원이 784인 2D 텐서만 입력으로 받는 층, 첫 번째 차원의 크기가 32로 변환된 텐서를 출력.\n",
    "model.add(layers.Dense(32, input_shape=(784,)))\n",
    "# 케라스에서는 모델에 추가된 층을 자동으로 상위 층의 크기에 맞추어 줌.\n",
    "model.add(layers.Dense(10))"
   ]
  },
  {
   "cell_type": "code",
   "execution_count": 2,
   "metadata": {},
   "outputs": [],
   "source": [
    "def read_data(filename):\n",
    "    with open(filename, 'rt', encoding='utf-8') as f:\n",
    "        data = [line.split('\\t') for line in f.read().splitlines()]\n",
    "        # txt 파일의 헤더(id document label)는 제외하기\n",
    "        data = data[1:]\n",
    "    return data\n",
    "\n",
    "train_data = read_data('./ratings_train.txt')\n",
    "test_data = read_data('./ratings_test.txt')"
   ]
  },
  {
   "cell_type": "code",
   "execution_count": 3,
   "metadata": {},
   "outputs": [],
   "source": [
    "from konlpy.tag import Okt\n",
    "\n",
    "okt = Okt()"
   ]
  },
  {
   "cell_type": "code",
   "execution_count": 4,
   "metadata": {},
   "outputs": [
    {
     "name": "stdout",
     "output_type": "stream",
     "text": [
      "(['아/Exclamation',\n",
      "  '더빙/Noun',\n",
      "  '../Punctuation',\n",
      "  '진짜/Noun',\n",
      "  '짜증나다/Adjective',\n",
      "  '목소리/Noun'],\n",
      " '0')\n"
     ]
    }
   ],
   "source": [
    "import json\n",
    "import os\n",
    "from pprint import pprint\n",
    "\n",
    "def tokenize(doc):\n",
    "    # norm은 정규화, stem은 근어로 표시하기를 나타냄\n",
    "    return ['/'.join(t) for t in okt.pos(doc, norm=True, stem=True)]\n",
    "\n",
    "if os.path.isfile('train_docs.json'):\n",
    "    with open('train_docs.json', 'a', encoding='utf-8') as f:\n",
    "        train_docs = json.load(f)\n",
    "    with open('test_docs.json', 'a', encoding='utf-8') as f:\n",
    "        test_docs = json.load(f)\n",
    "else:\n",
    "    train_docs = [(tokenize(row[1]), row[2]) for row in train_data]\n",
    "    test_docs = [(tokenize(row[1]), row[2]) for row in test_data]\n",
    "    # JSON 파일로 저장\n",
    "    with open('train_docs.json', 'w', encoding=\"utf-8\") as make_file:\n",
    "        json.dump(train_docs, make_file, ensure_ascii=False, indent=\"\\t\")\n",
    "    with open('test_docs.json', 'w', encoding=\"utf-8\") as make_file:\n",
    "        json.dump(test_docs, make_file, ensure_ascii=False, indent=\"\\t\")\n",
    "\n",
    "# 예쁘게(?) 출력하기 위해서 pprint 라이브러리 사용\n",
    "pprint(train_docs[0])"
   ]
  },
  {
   "cell_type": "code",
   "execution_count": 5,
   "metadata": {},
   "outputs": [
    {
     "name": "stdout",
     "output_type": "stream",
     "text": [
      "2159921\n"
     ]
    }
   ],
   "source": [
    "tokens = [t for d in train_docs for t in d[0]]\n",
    "print(len(tokens))"
   ]
  },
  {
   "cell_type": "code",
   "execution_count": 6,
   "metadata": {},
   "outputs": [],
   "source": [
    "import nltk\n",
    "text = nltk.Text(tokens, name='NMSC')"
   ]
  },
  {
   "cell_type": "code",
   "execution_count": 7,
   "metadata": {},
   "outputs": [],
   "source": [
    "# 시간이 꽤 걸립니다! 시간을 절약하고 싶으면 most_common의 매개변수를 줄여보세요.\n",
    "selected_words = [f[0] for f in text.vocab().most_common(1000)]\n",
    "\n",
    "def term_frequency(doc):\n",
    "    return [doc.count(word) for word in selected_words]\n",
    "\n",
    "train_x = [term_frequency(d) for d, _ in train_docs]\n",
    "test_x = [term_frequency(d) for d, _ in test_docs]\n",
    "train_y = [c for _, c in train_docs]\n",
    "test_y = [c for _, c in test_docs]"
   ]
  },
  {
   "cell_type": "code",
   "execution_count": 8,
   "metadata": {},
   "outputs": [],
   "source": [
    "import numpy as np\n",
    "\n",
    "x_train = np.asarray(train_x).astype('float32')\n",
    "x_test = np.asarray(test_x).astype('float32')\n",
    "\n",
    "y_train = np.asarray(train_y).astype('float32')\n",
    "y_test = np.asarray(test_y).astype('float32')"
   ]
  },
  {
   "cell_type": "code",
   "execution_count": 9,
   "metadata": {},
   "outputs": [
    {
     "name": "stdout",
     "output_type": "stream",
     "text": [
      "WARNING:tensorflow:From C:\\Users\\dlstn\\.conda\\envs\\tensor1.15\\lib\\site-packages\\tensorflow_core\\python\\ops\\resource_variable_ops.py:1630: calling BaseResourceVariable.__init__ (from tensorflow.python.ops.resource_variable_ops) with constraint is deprecated and will be removed in a future version.\n",
      "Instructions for updating:\n",
      "If using Keras pass *_constraint arguments to layers.\n",
      "WARNING:tensorflow:From C:\\Users\\dlstn\\.conda\\envs\\tensor1.15\\lib\\site-packages\\tensorflow_core\\python\\ops\\nn_impl.py:183: where (from tensorflow.python.ops.array_ops) is deprecated and will be removed in a future version.\n",
      "Instructions for updating:\n",
      "Use tf.where in 2.0, which has the same broadcast rule as np.where\n",
      "Train on 150000 samples\n",
      "Epoch 1/10\n",
      "150000/150000 [==============================] - 1s 10us/sample - loss: 0.4341 - binary_accuracy: 0.8014\n",
      "Epoch 2/10\n",
      "150000/150000 [==============================] - 2s 12us/sample - loss: 0.3827 - binary_accuracy: 0.8229\n",
      "Epoch 3/10\n",
      "150000/150000 [==============================] - 1s 10us/sample - loss: 0.3672 - binary_accuracy: 0.8320\n",
      "Epoch 4/10\n",
      "150000/150000 [==============================] - 2s 13us/sample - loss: 0.3541 - binary_accuracy: 0.8399\n",
      "Epoch 5/10\n",
      "150000/150000 [==============================] - 2s 10us/sample - loss: 0.3420 - binary_accuracy: 0.8466\n",
      "Epoch 6/10\n",
      "150000/150000 [==============================] - 1s 9us/sample - loss: 0.3303 - binary_accuracy: 0.8531\n",
      "Epoch 7/10\n",
      "150000/150000 [==============================] - 1s 9us/sample - loss: 0.3182 - binary_accuracy: 0.8603\n",
      "Epoch 8/10\n",
      "150000/150000 [==============================] - 1s 8us/sample - loss: 0.3066 - binary_accuracy: 0.8662\n",
      "Epoch 9/10\n",
      "150000/150000 [==============================] - 1s 9us/sample - loss: 0.2950 - binary_accuracy: 0.8719\n",
      "Epoch 10/10\n",
      "150000/150000 [==============================] - 1s 8us/sample - loss: 0.2843 - binary_accuracy: 0.8772\n",
      "50000/50000 [==============================] - 1s 21us/sample - loss: 0.3953 - binary_accuracy: 0.8279\n"
     ]
    }
   ],
   "source": [
    "from tensorflow.keras import models\n",
    "from tensorflow.keras import layers\n",
    "from tensorflow.keras import optimizers\n",
    "from tensorflow.keras import losses\n",
    "from tensorflow.keras import metrics\n",
    "\n",
    "model = models.Sequential()\n",
    "model.add(layers.Dense(64, activation='relu', input_shape=(1000,)))\n",
    "model.add(layers.Dense(64, activation='relu'))\n",
    "model.add(layers.Dense(1, activation='sigmoid'))\n",
    "\n",
    "model.compile(optimizer=optimizers.RMSprop(lr=0.001),\n",
    "             loss=losses.binary_crossentropy,\n",
    "             metrics=[metrics.binary_accuracy])\n",
    "\n",
    "model.fit(x_train, y_train, epochs=10, batch_size=512)\n",
    "results = model.evaluate(x_test, y_test)"
   ]
  },
  {
   "cell_type": "code",
   "execution_count": 13,
   "metadata": {},
   "outputs": [],
   "source": [
    "#분유 제조사 목록\n",
    "milkName = ['갈리아', '거버', '남양유업', '네슬레', '네이쳐스원', '노발락', '뉴트리시아', '뢰벤짠', '매일유업', '메이지', '밀라산', '밀루파', \n",
    "            '벨라미스오가닉', '아스펜', '아이배냇', '아이엠뉴질랜드', '애보트', '얼스베스트', '엔파밀', '오브맘', '와코도', '일동후디스', '카브리타',\n",
    "            '커클랜드', '퇴퍼', '파스퇴르', '페디아슈어', '퓨어랜드', '후마나', 'HOLLE', 'Hipp', 'LG생활건강']"
   ]
  },
  {
   "cell_type": "code",
   "execution_count": 14,
   "metadata": {},
   "outputs": [],
   "source": [
    "slowfood = ['남양유업',  '네슬레', '래퍼티스가든', '맘스쌀과자', '매일유업', '미즈앤코', '베베쿡', '비치넛', '에바토', '일동후디스', '파스퇴르', \n",
    "            'LG생활건강', 'SafrunatS.L', '루솔', '뽀뽀뜨', '아이배냇', '얼스베스트', '엘빈즈', '오가닉맘', '짱죽', '팜투베이비', '푸드케어', '풀무원']"
   ]
  },
  {
   "cell_type": "code",
   "execution_count": 15,
   "metadata": {},
   "outputs": [],
   "source": [
    "gijugi = [ '겐키', '군', '깨끗한나라', '나비잠', '네띠', '네이쳐러브메레', '네추럴블라썸', '네츄라오가닉', '대디베이비', '드라이퍼스', '로맘스', \n",
    "          '로한', '리베로', '리보쓰', '리에또', '마르마이플러스', '마미포코', '맘스네이처', '메리즈', '메리트산업', '메이커키즈', '모나리자', \n",
    "          '모모래빗', '모이몰른', '몰텍스', '무니', '무루', '무미', '밍크뮤', '바바랩', '밤보', '밤부베베', '백양산업', '범킨스', '베베린도',\n",
    "           '베베몬', '베베원', '베이비리', '베이비스토리', '베이비앙', '베이비앤아이', '베이비오가닉', '베피스', '벤스랜드', '보솜이', \n",
    "          '블루독베이비', '서림', '세븐스제너레이션', '세한', '쇼콜라', '수안산업', '슈퍼대디', '신성', '쌍용C&B', '아가똥', '아가짱', '아이두레',\n",
    "           '아이씨프로젝트', '아이에이커머스', '아이엠트루', '아이웰', '아이티씨', '암웨이', '압소바', '앙블랑', '애플크럼비', '에뜨와', \n",
    "          '에이메르네이쳐', '에코튜드네이처', '에프랑', '엠케이', '영림B&A', '오가닉맘', '오로라', '오보소', '오아이비', '올러브', '유트러스', \n",
    "          '은홍섬유', '이마트', '이엔컴퍼니', '이오스트', '일동아이엠씨', '조이로이', '주치니', '주타노다이퍼', '참사랑', '천싸요', '첨이첨이', \n",
    "          '치쿨', '캉가케어', '커클랜드', '케이맘', '코트니', '코튼리퍼블릭', '쿠쉬스', '쿠잉', '큐비앤맘', '클로즈', '키즈디조이', '킨도', '킷앤킨',\n",
    "           '토디앙', '파라솔', '파코라반베이비', '팸퍼스', '페넬로페', '펠트친구', '포그니', '포유', '폴라리스', '폴맘', '피노', '핑고', '하기스', \n",
    "          '하이가', '한빛산업', '행키베베', '헤인셀레스티얼', '현대BABY산업', '홈플러스', 'BB DISTRIBE', 'GBSTYLE', 'GERBER', 'MK']"
   ]
  },
  {
   "cell_type": "code",
   "execution_count": 16,
   "metadata": {},
   "outputs": [],
   "source": [
    "babyCar = [ '구름과환경', '구비', '굿베이비', '그라코', '그린탐', '깜', '나단스', '뉴나', '다이치', '델타', '도렐', '동방레포츠', '라스깔라', '레카로', '로드스타', '리안', \n",
    "           '리첼', '리틀타익스', '린덴', '마루스', '마리꼬베베', '마마루', '마마스앤파파스', '마이크라라이트', '맥시코시', '맥클라렌', '몽트뢰', '무무브', '무치', '미마', \n",
    "           '바론', '밤비노', '베이비몬스터', '베이비스타일', '베이비시티', '베이비싱', '베이비젠', '베이비조거', '베이비캠프', '베이비트랜드', '베이비프라임', '베이비홈', \n",
    "           '보브코리아', '부가부', '브라이택스', '브레비', '뻬그뻬레고', '샤오미', '세기산업', '세이프티퍼스트', '세피앙', '스퀴즈', '스토케', '스트롤에어', '실버크로스', \n",
    "           '실버팍스', '싸이벡스', '써니러브', '아가방앤컴퍼니', '아넥스', '아발론', '아이빌리브', '아이사랑', '아이엠베이비', '아이캔디', '아이쿠', '아프리카', '알로앤루', \n",
    "           '알퐁소', '앙팡스', '어파베이비', '에그', '에르고베이비', '에스디스피드', '에어보스', '에이블트레이딩', '엔픽스', '엘레갈로', '엘레니어', '엠버', '예떼', '오르빗베이비', \n",
    "           '오타브', '와이업', '와이케이비앤씨', '요야', '유니원', '이바겐', '이븐플로', '이지워커', '인스텝', '잉글라차','잉글레시나', '제로', '제인', '조이', '조이파트너스', \n",
    "           '조코', '줄즈', '중모토이플러스', '쥬비', '지비', '쭈쭈베베', '차일드홈', '치코', '카펠라', '코뮌코리아', '코사토', '코엔코', '콜크래프트', '콤비', '콩코드', '퀴니', \n",
    "           '큐터스', '키도포타머스', '키디', '키즈엠브레이스', '킨더웨건', '킨즈', '테크넘', '토이파파', '톨스토이', '톰비', '툴레', '파파앤코', '팔리', '페도라', '포브', '프시케', \n",
    "           '필앤테즈', '하이브리드', '한스', '한일레인보우', '해님', '해밀턴', '해피랜드F&C', '햇님토이', '헨티', 'ABC', 'GB', 'MEIBAO', 'SEEC', 'VOVO', 'belecoo']"
   ]
  },
  {
   "cell_type": "code",
   "execution_count": 17,
   "metadata": {},
   "outputs": [],
   "source": [
    "import csv\n",
    "\n",
    "for j in milkName:\n",
    "\n",
    "    feedback_list=[]\n",
    "\n",
    "    with open(f'../1. merge/1. 분유/{j}_merge.csv', 'r', encoding='utf-8') as f:\n",
    "        csv_reader = csv.reader(f, delimiter = '\\n')\n",
    "        for row in csv_reader:\n",
    "            feedback_list.append(row)\n",
    "\n",
    "    feedback_list = sum(feedback_list, [])\n",
    "\n",
    "    def predict_pos_neg_fix(review):\n",
    "        token = tokenize(review)\n",
    "        tf = term_frequency(token)\n",
    "        data = np.expand_dims(np.asarray(tf).astype('float32'), axis=0)\n",
    "        score = float(model.predict(data))\n",
    "        if(score > 0.5):\n",
    "            positive001.append(\"[{}], 긍정 텍스트 확률 : {:.2f}%\".format(review, score * 100))\n",
    "        else:\n",
    "            negative001.append(\"[{}], 부정 텍스트 확률 : {:.2f}%\".format(review, (1 - score) * 100))\n",
    "\n",
    "    positive001 = []\n",
    "    negative001 = []\n",
    "\n",
    "    for i in range(0, len(feedback_list)):\n",
    "        predict_pos_neg_fix(str(feedback_list[i]))\n",
    "\n",
    "    import pandas as pd\n",
    "    evaluate_pos001 = pd.DataFrame(positive001)\n",
    "    evaluate_pos001.to_csv(f\"./1. 분유/{j}_positive.csv\", header = False, index = False)\n",
    "    evaluate_neg001 = pd.DataFrame(negative001)\n",
    "    evaluate_neg001.to_csv(f\"./1. 분유/{j}_negative.csv\", header = False, index = False)"
   ]
  },
  {
   "cell_type": "code",
   "execution_count": 18,
   "metadata": {},
   "outputs": [],
   "source": [
    "for j in slowfood:\n",
    "\n",
    "    feedback_list=[]\n",
    "\n",
    "    with open(f'../1. merge/2. 이유식/{j}_merge.csv', 'r', encoding='utf-8') as f:\n",
    "        csv_reader = csv.reader(f, delimiter = '\\n')\n",
    "        for row in csv_reader:\n",
    "            feedback_list.append(row)\n",
    "\n",
    "    feedback_list = sum(feedback_list, [])\n",
    "\n",
    "    def predict_pos_neg_fix(review):\n",
    "        token = tokenize(review)\n",
    "        tf = term_frequency(token)\n",
    "        data = np.expand_dims(np.asarray(tf).astype('float32'), axis=0)\n",
    "        score = float(model.predict(data))\n",
    "        if(score > 0.5):\n",
    "            positive001.append(\"[{}], 긍정 텍스트 확률 : {:.2f}%\".format(review, score * 100))\n",
    "        else:\n",
    "            negative001.append(\"[{}], 부정 텍스트 확률 : {:.2f}%\".format(review, (1 - score) * 100))\n",
    "\n",
    "    positive001 = []\n",
    "    negative001 = []\n",
    "\n",
    "    for i in range(0, len(feedback_list)):\n",
    "        predict_pos_neg_fix(str(feedback_list[i]))\n",
    "\n",
    "    import pandas as pd\n",
    "    evaluate_pos001 = pd.DataFrame(positive001)\n",
    "    evaluate_pos001.to_csv(f\"./2. 이유식/{j}_positive.csv\", header = False, index = False)\n",
    "    evaluate_neg001 = pd.DataFrame(negative001)\n",
    "    evaluate_neg001.to_csv(f\"./2. 이유식/{j}_negative.csv\", header = False, index = False)"
   ]
  },
  {
   "cell_type": "code",
   "execution_count": 19,
   "metadata": {},
   "outputs": [],
   "source": [
    "for j in gijugi:\n",
    "\n",
    "    feedback_list=[]\n",
    "\n",
    "    with open(f'../1. merge/3. 기저귀/{j}_merge.csv', 'r', encoding='utf-8') as f:\n",
    "        csv_reader = csv.reader(f, delimiter = '\\n')\n",
    "        for row in csv_reader:\n",
    "            feedback_list.append(row)\n",
    "\n",
    "    feedback_list = sum(feedback_list, [])\n",
    "\n",
    "    def predict_pos_neg_fix(review):\n",
    "        token = tokenize(review)\n",
    "        tf = term_frequency(token)\n",
    "        data = np.expand_dims(np.asarray(tf).astype('float32'), axis=0)\n",
    "        score = float(model.predict(data))\n",
    "        if(score > 0.5):\n",
    "            positive001.append(\"[{}], 긍정 텍스트 확률 : {:.2f}%\".format(review, score * 100))\n",
    "        else:\n",
    "            negative001.append(\"[{}], 부정 텍스트 확률 : {:.2f}%\".format(review, (1 - score) * 100))\n",
    "\n",
    "    positive001 = []\n",
    "    negative001 = []\n",
    "\n",
    "    for i in range(0, len(feedback_list)):\n",
    "        predict_pos_neg_fix(str(feedback_list[i]))\n",
    "\n",
    "    import pandas as pd\n",
    "    evaluate_pos001 = pd.DataFrame(positive001)\n",
    "    evaluate_pos001.to_csv(f\"./3. 기저귀/{j}_positive.csv\", header = False, index = False)\n",
    "    evaluate_neg001 = pd.DataFrame(negative001)\n",
    "    evaluate_neg001.to_csv(f\"./3. 기저귀/{j}_negative.csv\", header = False, index = False)"
   ]
  },
  {
   "cell_type": "code",
   "execution_count": 20,
   "metadata": {},
   "outputs": [],
   "source": [
    "for j in babyCar:\n",
    "\n",
    "    feedback_list=[]\n",
    "\n",
    "    with open(f'../1. merge/4. 유모차/{j}_merge.csv', 'r', encoding='utf-8') as f:\n",
    "        csv_reader = csv.reader(f, delimiter = '\\n')\n",
    "        for row in csv_reader:\n",
    "            feedback_list.append(row)\n",
    "\n",
    "    feedback_list = sum(feedback_list, [])\n",
    "\n",
    "    def predict_pos_neg_fix(review):\n",
    "        token = tokenize(review)\n",
    "        tf = term_frequency(token)\n",
    "        data = np.expand_dims(np.asarray(tf).astype('float32'), axis=0)\n",
    "        score = float(model.predict(data))\n",
    "        if(score > 0.5):\n",
    "            positive001.append(\"[{}], 긍정 텍스트 확률 : {:.2f}%\".format(review, score * 100))\n",
    "        else:\n",
    "            negative001.append(\"[{}], 부정 텍스트 확률 : {:.2f}%\".format(review, (1 - score) * 100))\n",
    "\n",
    "    positive001 = []\n",
    "    negative001 = []\n",
    "\n",
    "    for i in range(0, len(feedback_list)):\n",
    "        predict_pos_neg_fix(str(feedback_list[i]))\n",
    "\n",
    "    import pandas as pd\n",
    "    evaluate_pos001 = pd.DataFrame(positive001)\n",
    "    evaluate_pos001.to_csv(f\"./4. 유모차/{j}_positive.csv\", header = False, index = False)\n",
    "    evaluate_neg001 = pd.DataFrame(negative001)\n",
    "    evaluate_neg001.to_csv(f\"./4. 유모차/{j}_negative.csv\", header = False, index = False)"
   ]
  }
 ],
 "metadata": {
  "kernelspec": {
   "display_name": "Python 3",
   "language": "python",
   "name": "python3"
  },
  "language_info": {
   "codemirror_mode": {
    "name": "ipython",
    "version": 3
   },
   "file_extension": ".py",
   "mimetype": "text/x-python",
   "name": "python",
   "nbconvert_exporter": "python",
   "pygments_lexer": "ipython3",
   "version": "3.7.4"
  }
 },
 "nbformat": 4,
 "nbformat_minor": 4
}
